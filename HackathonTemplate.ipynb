{
  "nbformat": 4,
  "nbformat_minor": 0,
  "metadata": {
    "accelerator": "GPU",
    "colab": {
      "name": "HackathonTemplate.ipynb",
      "provenance": [],
      "collapsed_sections": [],
      "include_colab_link": true
    },
    "kernelspec": {
      "display_name": "Python 3",
      "name": "python3"
    }
  },
  "cells": [
    {
      "cell_type": "markdown",
      "metadata": {
        "id": "view-in-github",
        "colab_type": "text"
      },
      "source": [
        "<a href=\"https://colab.research.google.com/github/minzzan/Colab/blob/main/HackathonTemplate.ipynb\" target=\"_parent\"><img src=\"https://colab.research.google.com/assets/colab-badge.svg\" alt=\"Open In Colab\"/></a>"
      ]
    },
    {
      "cell_type": "code",
      "metadata": {
        "colab": {
          "base_uri": "https://localhost:8080/"
        },
        "id": "eB46VHiW_XFw",
        "outputId": "4d5f674b-8e15-410f-b645-5089983e071e"
      },
      "source": [
        "from google.colab import drive\r\n",
        "drive.mount('/content/drive')"
      ],
      "execution_count": null,
      "outputs": [
        {
          "output_type": "stream",
          "text": [
            "Mounted at /content/drive\n"
          ],
          "name": "stdout"
        }
      ]
    },
    {
      "cell_type": "code",
      "metadata": {
        "id": "PzBY2kAZCHTo"
      },
      "source": [
        "import os\r\n",
        "import cv2\r\n",
        "from google.colab.patches import cv2_imshow\r\n",
        "import numpy as np\r\n",
        "import glob\r\n",
        "from tqdm import tqdm\r\n",
        "import matplotlib.pyplot as plt\r\n",
        "\r\n",
        "import torch\r\n",
        "from torch.utils.data import Dataset, TensorDataset, DataLoader\r\n",
        "from pathlib import Path\r\n",
        "\r\n",
        "from torch import nn, optim\r\n",
        "from torchvision import transforms, datasets\r\n",
        "\r\n",
        "BATCH_SIZE = 64"
      ],
      "execution_count": null,
      "outputs": []
    },
    {
      "cell_type": "markdown",
      "metadata": {
        "id": "oCkJzX-nzq6z"
      },
      "source": [
        "---\r\n",
        "\r\n",
        "**공개된 학습 데이셋 구조**\r\n",
        "\r\n",
        "OpenDataset\r\n",
        "\r\n",
        "　┖ Sequence01\r\n",
        "\r\n",
        "　　┖ 00000.jpg ~ 00900.jpg\r\n",
        "\r\n",
        "　┖ Sequence02\r\n",
        "\r\n",
        "　　┖ 00000.jpg ~ 00900.jpg\r\n",
        "\r\n",
        "　┖ Sequence03\r\n",
        "\r\n",
        "　　┖ 00000.jpg ~ 00900.jpg\r\n",
        "\r\n",
        "---"
      ]
    },
    {
      "cell_type": "markdown",
      "metadata": {
        "id": "I53TTZHTKTDz"
      },
      "source": [
        "---\r\n",
        "\r\n",
        "**공개된 학습용 데이터셋에 대한 설명을 위한 코드**\r\n",
        "\r\n",
        "변수: ***dataset_path*** - 공개된 데이터셋 경로 \r\n",
        "\r\n",
        "시퀀스 이름, 시퀀스 내 이미지 개수를 출력한다."
      ]
    },
    {
      "cell_type": "code",
      "metadata": {
        "id": "kYi5N8KkCLSh"
      },
      "source": [
        "dataset_path = '/content/drive/MyDrive/OpenDataset'\r\n",
        "for seq_name in os.listdir(dataset_path):\r\n",
        "  seq_path = os.path.join(dataset_path, seq_name)\r\n",
        "  print('시퀀스 폴더:', seq_name, ', 시퀀스 이미지 개수:', len(os.listdir(seq_path)))\r\n",
        "\r\n",
        "# for img_name in os.listdir(seq_path):\r\n",
        "#      img_path = os.path.join(seq_path, img_name)\r\n",
        "#      img = cv2.imread(img_path)\r\n",
        "#      cv2_imshow(img)"
      ],
      "execution_count": null,
      "outputs": []
    },
    {
      "cell_type": "markdown",
      "metadata": {
        "id": "HP7g9bSBxcmD"
      },
      "source": [
        "---"
      ]
    },
    {
      "cell_type": "markdown",
      "metadata": {
        "id": "Y6c_Dw3i1LIK"
      },
      "source": [
        "---\r\n",
        "**테스트 데이터셋 구조**\r\n",
        "\r\n",
        "TestSequence\r\n",
        "\r\n",
        "　┖ 00000.jpg ~ 00900.jpg\r\n",
        "\r\n",
        "---"
      ]
    },
    {
      "cell_type": "markdown",
      "metadata": {
        "id": "jbNKvBZiLOJP"
      },
      "source": [
        "---\r\n",
        "\r\n",
        "**테스트를 위한 경로 입력**\r\n",
        "\r\n",
        "변수: ***test_seq_path*** - 테스트에 사용될 시퀀스의 경로\r\n",
        "\r\n",
        "(제출된 코드에서 다음 경로만 변경하여 채점할 예정)"
      ]
    },
    {
      "cell_type": "code",
      "metadata": {
        "id": "Cy5sSR2_BynR"
      },
      "source": [
        "test_seq_path = '/content/drive/MyDrive/OpenDataset/Sequence01'"
      ],
      "execution_count": null,
      "outputs": []
    },
    {
      "cell_type": "markdown",
      "metadata": {
        "id": "hw_rbmm5xi-U"
      },
      "source": [
        "---"
      ]
    },
    {
      "cell_type": "markdown",
      "metadata": {
        "id": "aU1WQsV_QQyK"
      },
      "source": [
        "---\r\n",
        "\r\n",
        "**테스트 시퀀스의 이미지를 불러오는 class 정의**\r\n",
        "\r\n",
        "테스트 시퀀스 안의 이미지들을 Tensor로 변환하여 내보내주는 Dataset class를 정의\r\n",
        "\r\n",
        "**(각자 방법에 따라 class 내부를 수정해서 사용 )**\r\n",
        "\r\n",
        "변수: ***imgPathes*** - 테스트 시퀀스 내 이미지들의 경로를 저장하는 list\r\n",
        "\r\n",
        "함수: \r\n",
        "\r\n",
        "*__init__* - 시퀀스 내 이미지들의 경로를 imgPathes에 저장\r\n",
        "\r\n",
        "*__getitem__* - 저장된 이미지들의 경로를 통해 이미지를 불러오고 텐서로 변환하여 출력한다. (PyTorch의 DataLoader, for 반복문 등에 의해 호출되는 함수)\r\n",
        "\r\n"
      ]
    },
    {
      "cell_type": "code",
      "metadata": {
        "id": "raCFvLTFNObC"
      },
      "source": [
        "class testSequenceDataset(Dataset):\r\n",
        "  def __init__(self, _test_seq_path):\r\n",
        "    self.imgPathes = []\r\n",
        "\r\n",
        "    # 시퀀스 내 이미지 경로들을 list에 저장(이름순 정렬)\r\n",
        "    for _img_name in sorted(os.listdir(_test_seq_path)):\r\n",
        "      img_path = os.path.join(_test_seq_path, _img_name)\r\n",
        "      self.imgPathes.append(img_path)\r\n",
        "  \r\n",
        "  def __len__(self):\r\n",
        "    return len(self.imgPathes)\r\n",
        "\r\n",
        "  def __getitem__(self, idx):\r\n",
        "    _img = cv2.imread(self.imgPathes[idx])\r\n",
        "    _img = _img.astype(np.float32) / 255.0\r\n",
        "    _img_tensor = torch.from_numpy(img.transpose(2, 0, 1))\r\n",
        "\r\n",
        "    return _img_tensor\r\n"
      ],
      "execution_count": null,
      "outputs": []
    },
    {
      "cell_type": "markdown",
      "metadata": {
        "id": "SD45hc-jjDe2"
      },
      "source": [
        "테스트 데이터셋 생성"
      ]
    },
    {
      "cell_type": "code",
      "metadata": {
        "colab": {
          "base_uri": "https://localhost:8080/"
        },
        "id": "lZuHA-bFiDay",
        "outputId": "b3c917fc-91ba-492d-931d-96b364a6b12b"
      },
      "source": [
        "testDataset = testSequenceDataset(test_seq_path)\r\n",
        "print('테스트 데이터셋의 이미지 개수:', len(testDataset.imgPathes))\r\n",
        "print(testDataset.imgPathes)"
      ],
      "execution_count": null,
      "outputs": [
        {
          "output_type": "stream",
          "text": [
            "테스트 데이터셋의 이미지 개수: 901\n",
            "['/content/drive/MyDrive/OpenDataset/Sequence01/00000.jpg', '/content/drive/MyDrive/OpenDataset/Sequence01/00001.jpg', '/content/drive/MyDrive/OpenDataset/Sequence01/00002.jpg', '/content/drive/MyDrive/OpenDataset/Sequence01/00003.jpg', '/content/drive/MyDrive/OpenDataset/Sequence01/00004.jpg', '/content/drive/MyDrive/OpenDataset/Sequence01/00005.jpg', '/content/drive/MyDrive/OpenDataset/Sequence01/00006.jpg', '/content/drive/MyDrive/OpenDataset/Sequence01/00007.jpg', '/content/drive/MyDrive/OpenDataset/Sequence01/00008.jpg', '/content/drive/MyDrive/OpenDataset/Sequence01/00009.jpg', '/content/drive/MyDrive/OpenDataset/Sequence01/00010.jpg', '/content/drive/MyDrive/OpenDataset/Sequence01/00011.jpg', '/content/drive/MyDrive/OpenDataset/Sequence01/00012.jpg', '/content/drive/MyDrive/OpenDataset/Sequence01/00013.jpg', '/content/drive/MyDrive/OpenDataset/Sequence01/00014.jpg', '/content/drive/MyDrive/OpenDataset/Sequence01/00015.jpg', '/content/drive/MyDrive/OpenDataset/Sequence01/00016.jpg', '/content/drive/MyDrive/OpenDataset/Sequence01/00017.jpg', '/content/drive/MyDrive/OpenDataset/Sequence01/00018.jpg', '/content/drive/MyDrive/OpenDataset/Sequence01/00019.jpg', '/content/drive/MyDrive/OpenDataset/Sequence01/00020.jpg', '/content/drive/MyDrive/OpenDataset/Sequence01/00021.jpg', '/content/drive/MyDrive/OpenDataset/Sequence01/00022.jpg', '/content/drive/MyDrive/OpenDataset/Sequence01/00023.jpg', '/content/drive/MyDrive/OpenDataset/Sequence01/00024.jpg', '/content/drive/MyDrive/OpenDataset/Sequence01/00025.jpg', '/content/drive/MyDrive/OpenDataset/Sequence01/00026.jpg', '/content/drive/MyDrive/OpenDataset/Sequence01/00027.jpg', '/content/drive/MyDrive/OpenDataset/Sequence01/00028.jpg', '/content/drive/MyDrive/OpenDataset/Sequence01/00029.jpg', '/content/drive/MyDrive/OpenDataset/Sequence01/00030.jpg', '/content/drive/MyDrive/OpenDataset/Sequence01/00031.jpg', '/content/drive/MyDrive/OpenDataset/Sequence01/00032.jpg', '/content/drive/MyDrive/OpenDataset/Sequence01/00033.jpg', '/content/drive/MyDrive/OpenDataset/Sequence01/00034.jpg', '/content/drive/MyDrive/OpenDataset/Sequence01/00035.jpg', '/content/drive/MyDrive/OpenDataset/Sequence01/00036.jpg', '/content/drive/MyDrive/OpenDataset/Sequence01/00037.jpg', '/content/drive/MyDrive/OpenDataset/Sequence01/00038.jpg', '/content/drive/MyDrive/OpenDataset/Sequence01/00039.jpg', '/content/drive/MyDrive/OpenDataset/Sequence01/00040.jpg', '/content/drive/MyDrive/OpenDataset/Sequence01/00041.jpg', '/content/drive/MyDrive/OpenDataset/Sequence01/00042.jpg', '/content/drive/MyDrive/OpenDataset/Sequence01/00043.jpg', '/content/drive/MyDrive/OpenDataset/Sequence01/00044.jpg', '/content/drive/MyDrive/OpenDataset/Sequence01/00045.jpg', '/content/drive/MyDrive/OpenDataset/Sequence01/00046.jpg', '/content/drive/MyDrive/OpenDataset/Sequence01/00047.jpg', '/content/drive/MyDrive/OpenDataset/Sequence01/00048.jpg', '/content/drive/MyDrive/OpenDataset/Sequence01/00049.jpg', '/content/drive/MyDrive/OpenDataset/Sequence01/00050.jpg', '/content/drive/MyDrive/OpenDataset/Sequence01/00051.jpg', '/content/drive/MyDrive/OpenDataset/Sequence01/00052.jpg', '/content/drive/MyDrive/OpenDataset/Sequence01/00053.jpg', '/content/drive/MyDrive/OpenDataset/Sequence01/00054.jpg', '/content/drive/MyDrive/OpenDataset/Sequence01/00055.jpg', '/content/drive/MyDrive/OpenDataset/Sequence01/00056.jpg', '/content/drive/MyDrive/OpenDataset/Sequence01/00057.jpg', '/content/drive/MyDrive/OpenDataset/Sequence01/00058.jpg', '/content/drive/MyDrive/OpenDataset/Sequence01/00059.jpg', '/content/drive/MyDrive/OpenDataset/Sequence01/00060.jpg', '/content/drive/MyDrive/OpenDataset/Sequence01/00061.jpg', '/content/drive/MyDrive/OpenDataset/Sequence01/00062.jpg', '/content/drive/MyDrive/OpenDataset/Sequence01/00063.jpg', '/content/drive/MyDrive/OpenDataset/Sequence01/00064.jpg', '/content/drive/MyDrive/OpenDataset/Sequence01/00065.jpg', '/content/drive/MyDrive/OpenDataset/Sequence01/00066.jpg', '/content/drive/MyDrive/OpenDataset/Sequence01/00067.jpg', '/content/drive/MyDrive/OpenDataset/Sequence01/00068.jpg', '/content/drive/MyDrive/OpenDataset/Sequence01/00069.jpg', '/content/drive/MyDrive/OpenDataset/Sequence01/00070.jpg', '/content/drive/MyDrive/OpenDataset/Sequence01/00071.jpg', '/content/drive/MyDrive/OpenDataset/Sequence01/00072.jpg', '/content/drive/MyDrive/OpenDataset/Sequence01/00073.jpg', '/content/drive/MyDrive/OpenDataset/Sequence01/00074.jpg', '/content/drive/MyDrive/OpenDataset/Sequence01/00075.jpg', '/content/drive/MyDrive/OpenDataset/Sequence01/00076.jpg', '/content/drive/MyDrive/OpenDataset/Sequence01/00077.jpg', '/content/drive/MyDrive/OpenDataset/Sequence01/00078.jpg', '/content/drive/MyDrive/OpenDataset/Sequence01/00079.jpg', '/content/drive/MyDrive/OpenDataset/Sequence01/00080.jpg', '/content/drive/MyDrive/OpenDataset/Sequence01/00081.jpg', '/content/drive/MyDrive/OpenDataset/Sequence01/00082.jpg', '/content/drive/MyDrive/OpenDataset/Sequence01/00083.jpg', '/content/drive/MyDrive/OpenDataset/Sequence01/00084.jpg', '/content/drive/MyDrive/OpenDataset/Sequence01/00085.jpg', '/content/drive/MyDrive/OpenDataset/Sequence01/00086.jpg', '/content/drive/MyDrive/OpenDataset/Sequence01/00087.jpg', '/content/drive/MyDrive/OpenDataset/Sequence01/00088.jpg', '/content/drive/MyDrive/OpenDataset/Sequence01/00089.jpg', '/content/drive/MyDrive/OpenDataset/Sequence01/00090.jpg', '/content/drive/MyDrive/OpenDataset/Sequence01/00091.jpg', '/content/drive/MyDrive/OpenDataset/Sequence01/00092.jpg', '/content/drive/MyDrive/OpenDataset/Sequence01/00093.jpg', '/content/drive/MyDrive/OpenDataset/Sequence01/00094.jpg', '/content/drive/MyDrive/OpenDataset/Sequence01/00095.jpg', '/content/drive/MyDrive/OpenDataset/Sequence01/00096.jpg', '/content/drive/MyDrive/OpenDataset/Sequence01/00097.jpg', '/content/drive/MyDrive/OpenDataset/Sequence01/00098.jpg', '/content/drive/MyDrive/OpenDataset/Sequence01/00099.jpg', '/content/drive/MyDrive/OpenDataset/Sequence01/00100.jpg', '/content/drive/MyDrive/OpenDataset/Sequence01/00101.jpg', '/content/drive/MyDrive/OpenDataset/Sequence01/00102.jpg', '/content/drive/MyDrive/OpenDataset/Sequence01/00103.jpg', '/content/drive/MyDrive/OpenDataset/Sequence01/00104.jpg', '/content/drive/MyDrive/OpenDataset/Sequence01/00105.jpg', '/content/drive/MyDrive/OpenDataset/Sequence01/00106.jpg', '/content/drive/MyDrive/OpenDataset/Sequence01/00107.jpg', '/content/drive/MyDrive/OpenDataset/Sequence01/00108.jpg', '/content/drive/MyDrive/OpenDataset/Sequence01/00109.jpg', '/content/drive/MyDrive/OpenDataset/Sequence01/00110.jpg', '/content/drive/MyDrive/OpenDataset/Sequence01/00111.jpg', '/content/drive/MyDrive/OpenDataset/Sequence01/00112.jpg', '/content/drive/MyDrive/OpenDataset/Sequence01/00113.jpg', '/content/drive/MyDrive/OpenDataset/Sequence01/00114.jpg', '/content/drive/MyDrive/OpenDataset/Sequence01/00115.jpg', '/content/drive/MyDrive/OpenDataset/Sequence01/00116.jpg', '/content/drive/MyDrive/OpenDataset/Sequence01/00117.jpg', '/content/drive/MyDrive/OpenDataset/Sequence01/00118.jpg', '/content/drive/MyDrive/OpenDataset/Sequence01/00119.jpg', '/content/drive/MyDrive/OpenDataset/Sequence01/00120.jpg', '/content/drive/MyDrive/OpenDataset/Sequence01/00121.jpg', '/content/drive/MyDrive/OpenDataset/Sequence01/00122.jpg', '/content/drive/MyDrive/OpenDataset/Sequence01/00123.jpg', '/content/drive/MyDrive/OpenDataset/Sequence01/00124.jpg', '/content/drive/MyDrive/OpenDataset/Sequence01/00125.jpg', '/content/drive/MyDrive/OpenDataset/Sequence01/00126.jpg', '/content/drive/MyDrive/OpenDataset/Sequence01/00127.jpg', '/content/drive/MyDrive/OpenDataset/Sequence01/00128.jpg', '/content/drive/MyDrive/OpenDataset/Sequence01/00129.jpg', '/content/drive/MyDrive/OpenDataset/Sequence01/00130.jpg', '/content/drive/MyDrive/OpenDataset/Sequence01/00131.jpg', '/content/drive/MyDrive/OpenDataset/Sequence01/00132.jpg', '/content/drive/MyDrive/OpenDataset/Sequence01/00133.jpg', '/content/drive/MyDrive/OpenDataset/Sequence01/00134.jpg', '/content/drive/MyDrive/OpenDataset/Sequence01/00135.jpg', '/content/drive/MyDrive/OpenDataset/Sequence01/00136.jpg', '/content/drive/MyDrive/OpenDataset/Sequence01/00137.jpg', '/content/drive/MyDrive/OpenDataset/Sequence01/00138.jpg', '/content/drive/MyDrive/OpenDataset/Sequence01/00139.jpg', '/content/drive/MyDrive/OpenDataset/Sequence01/00140.jpg', '/content/drive/MyDrive/OpenDataset/Sequence01/00141.jpg', '/content/drive/MyDrive/OpenDataset/Sequence01/00142.jpg', '/content/drive/MyDrive/OpenDataset/Sequence01/00143.jpg', '/content/drive/MyDrive/OpenDataset/Sequence01/00144.jpg', '/content/drive/MyDrive/OpenDataset/Sequence01/00145.jpg', '/content/drive/MyDrive/OpenDataset/Sequence01/00146.jpg', '/content/drive/MyDrive/OpenDataset/Sequence01/00147.jpg', '/content/drive/MyDrive/OpenDataset/Sequence01/00148.jpg', '/content/drive/MyDrive/OpenDataset/Sequence01/00149.jpg', '/content/drive/MyDrive/OpenDataset/Sequence01/00150.jpg', '/content/drive/MyDrive/OpenDataset/Sequence01/00151.jpg', '/content/drive/MyDrive/OpenDataset/Sequence01/00152.jpg', '/content/drive/MyDrive/OpenDataset/Sequence01/00153.jpg', '/content/drive/MyDrive/OpenDataset/Sequence01/00154.jpg', '/content/drive/MyDrive/OpenDataset/Sequence01/00155.jpg', '/content/drive/MyDrive/OpenDataset/Sequence01/00156.jpg', '/content/drive/MyDrive/OpenDataset/Sequence01/00157.jpg', '/content/drive/MyDrive/OpenDataset/Sequence01/00158.jpg', '/content/drive/MyDrive/OpenDataset/Sequence01/00159.jpg', '/content/drive/MyDrive/OpenDataset/Sequence01/00160.jpg', '/content/drive/MyDrive/OpenDataset/Sequence01/00161.jpg', '/content/drive/MyDrive/OpenDataset/Sequence01/00162.jpg', '/content/drive/MyDrive/OpenDataset/Sequence01/00163.jpg', '/content/drive/MyDrive/OpenDataset/Sequence01/00164.jpg', '/content/drive/MyDrive/OpenDataset/Sequence01/00165.jpg', '/content/drive/MyDrive/OpenDataset/Sequence01/00166.jpg', '/content/drive/MyDrive/OpenDataset/Sequence01/00167.jpg', '/content/drive/MyDrive/OpenDataset/Sequence01/00168.jpg', '/content/drive/MyDrive/OpenDataset/Sequence01/00169.jpg', '/content/drive/MyDrive/OpenDataset/Sequence01/00170.jpg', '/content/drive/MyDrive/OpenDataset/Sequence01/00171.jpg', '/content/drive/MyDrive/OpenDataset/Sequence01/00172.jpg', '/content/drive/MyDrive/OpenDataset/Sequence01/00173.jpg', '/content/drive/MyDrive/OpenDataset/Sequence01/00174.jpg', '/content/drive/MyDrive/OpenDataset/Sequence01/00175.jpg', '/content/drive/MyDrive/OpenDataset/Sequence01/00176.jpg', '/content/drive/MyDrive/OpenDataset/Sequence01/00177.jpg', '/content/drive/MyDrive/OpenDataset/Sequence01/00178.jpg', '/content/drive/MyDrive/OpenDataset/Sequence01/00179.jpg', '/content/drive/MyDrive/OpenDataset/Sequence01/00180.jpg', '/content/drive/MyDrive/OpenDataset/Sequence01/00181.jpg', '/content/drive/MyDrive/OpenDataset/Sequence01/00182.jpg', '/content/drive/MyDrive/OpenDataset/Sequence01/00183.jpg', '/content/drive/MyDrive/OpenDataset/Sequence01/00184.jpg', '/content/drive/MyDrive/OpenDataset/Sequence01/00185.jpg', '/content/drive/MyDrive/OpenDataset/Sequence01/00186.jpg', '/content/drive/MyDrive/OpenDataset/Sequence01/00187.jpg', '/content/drive/MyDrive/OpenDataset/Sequence01/00188.jpg', '/content/drive/MyDrive/OpenDataset/Sequence01/00189.jpg', '/content/drive/MyDrive/OpenDataset/Sequence01/00190.jpg', '/content/drive/MyDrive/OpenDataset/Sequence01/00191.jpg', '/content/drive/MyDrive/OpenDataset/Sequence01/00192.jpg', '/content/drive/MyDrive/OpenDataset/Sequence01/00193.jpg', '/content/drive/MyDrive/OpenDataset/Sequence01/00194.jpg', '/content/drive/MyDrive/OpenDataset/Sequence01/00195.jpg', '/content/drive/MyDrive/OpenDataset/Sequence01/00196.jpg', '/content/drive/MyDrive/OpenDataset/Sequence01/00197.jpg', '/content/drive/MyDrive/OpenDataset/Sequence01/00198.jpg', '/content/drive/MyDrive/OpenDataset/Sequence01/00199.jpg', '/content/drive/MyDrive/OpenDataset/Sequence01/00200.jpg', '/content/drive/MyDrive/OpenDataset/Sequence01/00201.jpg', '/content/drive/MyDrive/OpenDataset/Sequence01/00202.jpg', '/content/drive/MyDrive/OpenDataset/Sequence01/00203.jpg', '/content/drive/MyDrive/OpenDataset/Sequence01/00204.jpg', '/content/drive/MyDrive/OpenDataset/Sequence01/00205.jpg', '/content/drive/MyDrive/OpenDataset/Sequence01/00206.jpg', '/content/drive/MyDrive/OpenDataset/Sequence01/00207.jpg', '/content/drive/MyDrive/OpenDataset/Sequence01/00208.jpg', '/content/drive/MyDrive/OpenDataset/Sequence01/00209.jpg', '/content/drive/MyDrive/OpenDataset/Sequence01/00210.jpg', '/content/drive/MyDrive/OpenDataset/Sequence01/00211.jpg', '/content/drive/MyDrive/OpenDataset/Sequence01/00212.jpg', '/content/drive/MyDrive/OpenDataset/Sequence01/00213.jpg', '/content/drive/MyDrive/OpenDataset/Sequence01/00214.jpg', '/content/drive/MyDrive/OpenDataset/Sequence01/00215.jpg', '/content/drive/MyDrive/OpenDataset/Sequence01/00216.jpg', '/content/drive/MyDrive/OpenDataset/Sequence01/00217.jpg', '/content/drive/MyDrive/OpenDataset/Sequence01/00218.jpg', '/content/drive/MyDrive/OpenDataset/Sequence01/00219.jpg', '/content/drive/MyDrive/OpenDataset/Sequence01/00220.jpg', '/content/drive/MyDrive/OpenDataset/Sequence01/00221.jpg', '/content/drive/MyDrive/OpenDataset/Sequence01/00222.jpg', '/content/drive/MyDrive/OpenDataset/Sequence01/00223.jpg', '/content/drive/MyDrive/OpenDataset/Sequence01/00224.jpg', '/content/drive/MyDrive/OpenDataset/Sequence01/00225.jpg', '/content/drive/MyDrive/OpenDataset/Sequence01/00226.jpg', '/content/drive/MyDrive/OpenDataset/Sequence01/00227.jpg', '/content/drive/MyDrive/OpenDataset/Sequence01/00228.jpg', '/content/drive/MyDrive/OpenDataset/Sequence01/00229.jpg', '/content/drive/MyDrive/OpenDataset/Sequence01/00230.jpg', '/content/drive/MyDrive/OpenDataset/Sequence01/00231.jpg', '/content/drive/MyDrive/OpenDataset/Sequence01/00232.jpg', '/content/drive/MyDrive/OpenDataset/Sequence01/00233.jpg', '/content/drive/MyDrive/OpenDataset/Sequence01/00234.jpg', '/content/drive/MyDrive/OpenDataset/Sequence01/00235.jpg', '/content/drive/MyDrive/OpenDataset/Sequence01/00236.jpg', '/content/drive/MyDrive/OpenDataset/Sequence01/00237.jpg', '/content/drive/MyDrive/OpenDataset/Sequence01/00238.jpg', '/content/drive/MyDrive/OpenDataset/Sequence01/00239.jpg', '/content/drive/MyDrive/OpenDataset/Sequence01/00240.jpg', '/content/drive/MyDrive/OpenDataset/Sequence01/00241.jpg', '/content/drive/MyDrive/OpenDataset/Sequence01/00242.jpg', '/content/drive/MyDrive/OpenDataset/Sequence01/00243.jpg', '/content/drive/MyDrive/OpenDataset/Sequence01/00244.jpg', '/content/drive/MyDrive/OpenDataset/Sequence01/00245.jpg', '/content/drive/MyDrive/OpenDataset/Sequence01/00246.jpg', '/content/drive/MyDrive/OpenDataset/Sequence01/00247.jpg', '/content/drive/MyDrive/OpenDataset/Sequence01/00248.jpg', '/content/drive/MyDrive/OpenDataset/Sequence01/00249.jpg', '/content/drive/MyDrive/OpenDataset/Sequence01/00250.jpg', '/content/drive/MyDrive/OpenDataset/Sequence01/00251.jpg', '/content/drive/MyDrive/OpenDataset/Sequence01/00252.jpg', '/content/drive/MyDrive/OpenDataset/Sequence01/00253.jpg', '/content/drive/MyDrive/OpenDataset/Sequence01/00254.jpg', '/content/drive/MyDrive/OpenDataset/Sequence01/00255.jpg', '/content/drive/MyDrive/OpenDataset/Sequence01/00256.jpg', '/content/drive/MyDrive/OpenDataset/Sequence01/00257.jpg', '/content/drive/MyDrive/OpenDataset/Sequence01/00258.jpg', '/content/drive/MyDrive/OpenDataset/Sequence01/00259.jpg', '/content/drive/MyDrive/OpenDataset/Sequence01/00260.jpg', '/content/drive/MyDrive/OpenDataset/Sequence01/00261.jpg', '/content/drive/MyDrive/OpenDataset/Sequence01/00262.jpg', '/content/drive/MyDrive/OpenDataset/Sequence01/00263.jpg', '/content/drive/MyDrive/OpenDataset/Sequence01/00264.jpg', '/content/drive/MyDrive/OpenDataset/Sequence01/00265.jpg', '/content/drive/MyDrive/OpenDataset/Sequence01/00266.jpg', '/content/drive/MyDrive/OpenDataset/Sequence01/00267.jpg', '/content/drive/MyDrive/OpenDataset/Sequence01/00268.jpg', '/content/drive/MyDrive/OpenDataset/Sequence01/00269.jpg', '/content/drive/MyDrive/OpenDataset/Sequence01/00270.jpg', '/content/drive/MyDrive/OpenDataset/Sequence01/00271.jpg', '/content/drive/MyDrive/OpenDataset/Sequence01/00272.jpg', '/content/drive/MyDrive/OpenDataset/Sequence01/00273.jpg', '/content/drive/MyDrive/OpenDataset/Sequence01/00274.jpg', '/content/drive/MyDrive/OpenDataset/Sequence01/00275.jpg', '/content/drive/MyDrive/OpenDataset/Sequence01/00276.jpg', '/content/drive/MyDrive/OpenDataset/Sequence01/00277.jpg', '/content/drive/MyDrive/OpenDataset/Sequence01/00278.jpg', '/content/drive/MyDrive/OpenDataset/Sequence01/00279.jpg', '/content/drive/MyDrive/OpenDataset/Sequence01/00280.jpg', '/content/drive/MyDrive/OpenDataset/Sequence01/00281.jpg', '/content/drive/MyDrive/OpenDataset/Sequence01/00282.jpg', '/content/drive/MyDrive/OpenDataset/Sequence01/00283.jpg', '/content/drive/MyDrive/OpenDataset/Sequence01/00284.jpg', '/content/drive/MyDrive/OpenDataset/Sequence01/00285.jpg', '/content/drive/MyDrive/OpenDataset/Sequence01/00286.jpg', '/content/drive/MyDrive/OpenDataset/Sequence01/00287.jpg', '/content/drive/MyDrive/OpenDataset/Sequence01/00288.jpg', '/content/drive/MyDrive/OpenDataset/Sequence01/00289.jpg', '/content/drive/MyDrive/OpenDataset/Sequence01/00290.jpg', '/content/drive/MyDrive/OpenDataset/Sequence01/00291.jpg', '/content/drive/MyDrive/OpenDataset/Sequence01/00292.jpg', '/content/drive/MyDrive/OpenDataset/Sequence01/00293.jpg', '/content/drive/MyDrive/OpenDataset/Sequence01/00294.jpg', '/content/drive/MyDrive/OpenDataset/Sequence01/00295.jpg', '/content/drive/MyDrive/OpenDataset/Sequence01/00296.jpg', '/content/drive/MyDrive/OpenDataset/Sequence01/00297.jpg', '/content/drive/MyDrive/OpenDataset/Sequence01/00298.jpg', '/content/drive/MyDrive/OpenDataset/Sequence01/00299.jpg', '/content/drive/MyDrive/OpenDataset/Sequence01/00300.jpg', '/content/drive/MyDrive/OpenDataset/Sequence01/00301.jpg', '/content/drive/MyDrive/OpenDataset/Sequence01/00302.jpg', '/content/drive/MyDrive/OpenDataset/Sequence01/00303.jpg', '/content/drive/MyDrive/OpenDataset/Sequence01/00304.jpg', '/content/drive/MyDrive/OpenDataset/Sequence01/00305.jpg', '/content/drive/MyDrive/OpenDataset/Sequence01/00306.jpg', '/content/drive/MyDrive/OpenDataset/Sequence01/00307.jpg', '/content/drive/MyDrive/OpenDataset/Sequence01/00308.jpg', '/content/drive/MyDrive/OpenDataset/Sequence01/00309.jpg', '/content/drive/MyDrive/OpenDataset/Sequence01/00310.jpg', '/content/drive/MyDrive/OpenDataset/Sequence01/00311.jpg', '/content/drive/MyDrive/OpenDataset/Sequence01/00312.jpg', '/content/drive/MyDrive/OpenDataset/Sequence01/00313.jpg', '/content/drive/MyDrive/OpenDataset/Sequence01/00314.jpg', '/content/drive/MyDrive/OpenDataset/Sequence01/00315.jpg', '/content/drive/MyDrive/OpenDataset/Sequence01/00316.jpg', '/content/drive/MyDrive/OpenDataset/Sequence01/00317.jpg', '/content/drive/MyDrive/OpenDataset/Sequence01/00318.jpg', '/content/drive/MyDrive/OpenDataset/Sequence01/00319.jpg', '/content/drive/MyDrive/OpenDataset/Sequence01/00320.jpg', '/content/drive/MyDrive/OpenDataset/Sequence01/00321.jpg', '/content/drive/MyDrive/OpenDataset/Sequence01/00322.jpg', '/content/drive/MyDrive/OpenDataset/Sequence01/00323.jpg', '/content/drive/MyDrive/OpenDataset/Sequence01/00324.jpg', '/content/drive/MyDrive/OpenDataset/Sequence01/00325.jpg', '/content/drive/MyDrive/OpenDataset/Sequence01/00326.jpg', '/content/drive/MyDrive/OpenDataset/Sequence01/00327.jpg', '/content/drive/MyDrive/OpenDataset/Sequence01/00328.jpg', '/content/drive/MyDrive/OpenDataset/Sequence01/00329.jpg', '/content/drive/MyDrive/OpenDataset/Sequence01/00330.jpg', '/content/drive/MyDrive/OpenDataset/Sequence01/00331.jpg', '/content/drive/MyDrive/OpenDataset/Sequence01/00332.jpg', '/content/drive/MyDrive/OpenDataset/Sequence01/00333.jpg', '/content/drive/MyDrive/OpenDataset/Sequence01/00334.jpg', '/content/drive/MyDrive/OpenDataset/Sequence01/00335.jpg', '/content/drive/MyDrive/OpenDataset/Sequence01/00336.jpg', '/content/drive/MyDrive/OpenDataset/Sequence01/00337.jpg', '/content/drive/MyDrive/OpenDataset/Sequence01/00338.jpg', '/content/drive/MyDrive/OpenDataset/Sequence01/00339.jpg', '/content/drive/MyDrive/OpenDataset/Sequence01/00340.jpg', '/content/drive/MyDrive/OpenDataset/Sequence01/00341.jpg', '/content/drive/MyDrive/OpenDataset/Sequence01/00342.jpg', '/content/drive/MyDrive/OpenDataset/Sequence01/00343.jpg', '/content/drive/MyDrive/OpenDataset/Sequence01/00344.jpg', '/content/drive/MyDrive/OpenDataset/Sequence01/00345.jpg', '/content/drive/MyDrive/OpenDataset/Sequence01/00346.jpg', '/content/drive/MyDrive/OpenDataset/Sequence01/00347.jpg', '/content/drive/MyDrive/OpenDataset/Sequence01/00348.jpg', '/content/drive/MyDrive/OpenDataset/Sequence01/00349.jpg', '/content/drive/MyDrive/OpenDataset/Sequence01/00350.jpg', '/content/drive/MyDrive/OpenDataset/Sequence01/00351.jpg', '/content/drive/MyDrive/OpenDataset/Sequence01/00352.jpg', '/content/drive/MyDrive/OpenDataset/Sequence01/00353.jpg', '/content/drive/MyDrive/OpenDataset/Sequence01/00354.jpg', '/content/drive/MyDrive/OpenDataset/Sequence01/00355.jpg', '/content/drive/MyDrive/OpenDataset/Sequence01/00356.jpg', '/content/drive/MyDrive/OpenDataset/Sequence01/00357.jpg', '/content/drive/MyDrive/OpenDataset/Sequence01/00358.jpg', '/content/drive/MyDrive/OpenDataset/Sequence01/00359.jpg', '/content/drive/MyDrive/OpenDataset/Sequence01/00360.jpg', '/content/drive/MyDrive/OpenDataset/Sequence01/00361.jpg', '/content/drive/MyDrive/OpenDataset/Sequence01/00362.jpg', '/content/drive/MyDrive/OpenDataset/Sequence01/00363.jpg', '/content/drive/MyDrive/OpenDataset/Sequence01/00364.jpg', '/content/drive/MyDrive/OpenDataset/Sequence01/00365.jpg', '/content/drive/MyDrive/OpenDataset/Sequence01/00366.jpg', '/content/drive/MyDrive/OpenDataset/Sequence01/00367.jpg', '/content/drive/MyDrive/OpenDataset/Sequence01/00368.jpg', '/content/drive/MyDrive/OpenDataset/Sequence01/00369.jpg', '/content/drive/MyDrive/OpenDataset/Sequence01/00370.jpg', '/content/drive/MyDrive/OpenDataset/Sequence01/00371.jpg', '/content/drive/MyDrive/OpenDataset/Sequence01/00372.jpg', '/content/drive/MyDrive/OpenDataset/Sequence01/00373.jpg', '/content/drive/MyDrive/OpenDataset/Sequence01/00374.jpg', '/content/drive/MyDrive/OpenDataset/Sequence01/00375.jpg', '/content/drive/MyDrive/OpenDataset/Sequence01/00376.jpg', '/content/drive/MyDrive/OpenDataset/Sequence01/00377.jpg', '/content/drive/MyDrive/OpenDataset/Sequence01/00378.jpg', '/content/drive/MyDrive/OpenDataset/Sequence01/00379.jpg', '/content/drive/MyDrive/OpenDataset/Sequence01/00380.jpg', '/content/drive/MyDrive/OpenDataset/Sequence01/00381.jpg', '/content/drive/MyDrive/OpenDataset/Sequence01/00382.jpg', '/content/drive/MyDrive/OpenDataset/Sequence01/00383.jpg', '/content/drive/MyDrive/OpenDataset/Sequence01/00384.jpg', '/content/drive/MyDrive/OpenDataset/Sequence01/00385.jpg', '/content/drive/MyDrive/OpenDataset/Sequence01/00386.jpg', '/content/drive/MyDrive/OpenDataset/Sequence01/00387.jpg', '/content/drive/MyDrive/OpenDataset/Sequence01/00388.jpg', '/content/drive/MyDrive/OpenDataset/Sequence01/00389.jpg', '/content/drive/MyDrive/OpenDataset/Sequence01/00390.jpg', '/content/drive/MyDrive/OpenDataset/Sequence01/00391.jpg', '/content/drive/MyDrive/OpenDataset/Sequence01/00392.jpg', '/content/drive/MyDrive/OpenDataset/Sequence01/00393.jpg', '/content/drive/MyDrive/OpenDataset/Sequence01/00394.jpg', '/content/drive/MyDrive/OpenDataset/Sequence01/00395.jpg', '/content/drive/MyDrive/OpenDataset/Sequence01/00396.jpg', '/content/drive/MyDrive/OpenDataset/Sequence01/00397.jpg', '/content/drive/MyDrive/OpenDataset/Sequence01/00398.jpg', '/content/drive/MyDrive/OpenDataset/Sequence01/00399.jpg', '/content/drive/MyDrive/OpenDataset/Sequence01/00400.jpg', '/content/drive/MyDrive/OpenDataset/Sequence01/00401.jpg', '/content/drive/MyDrive/OpenDataset/Sequence01/00402.jpg', '/content/drive/MyDrive/OpenDataset/Sequence01/00403.jpg', '/content/drive/MyDrive/OpenDataset/Sequence01/00404.jpg', '/content/drive/MyDrive/OpenDataset/Sequence01/00405.jpg', '/content/drive/MyDrive/OpenDataset/Sequence01/00406.jpg', '/content/drive/MyDrive/OpenDataset/Sequence01/00407.jpg', '/content/drive/MyDrive/OpenDataset/Sequence01/00408.jpg', '/content/drive/MyDrive/OpenDataset/Sequence01/00409.jpg', '/content/drive/MyDrive/OpenDataset/Sequence01/00410.jpg', '/content/drive/MyDrive/OpenDataset/Sequence01/00411.jpg', '/content/drive/MyDrive/OpenDataset/Sequence01/00412.jpg', '/content/drive/MyDrive/OpenDataset/Sequence01/00413.jpg', '/content/drive/MyDrive/OpenDataset/Sequence01/00414.jpg', '/content/drive/MyDrive/OpenDataset/Sequence01/00415.jpg', '/content/drive/MyDrive/OpenDataset/Sequence01/00416.jpg', '/content/drive/MyDrive/OpenDataset/Sequence01/00417.jpg', '/content/drive/MyDrive/OpenDataset/Sequence01/00418.jpg', '/content/drive/MyDrive/OpenDataset/Sequence01/00419.jpg', '/content/drive/MyDrive/OpenDataset/Sequence01/00420.jpg', '/content/drive/MyDrive/OpenDataset/Sequence01/00421.jpg', '/content/drive/MyDrive/OpenDataset/Sequence01/00422.jpg', '/content/drive/MyDrive/OpenDataset/Sequence01/00423.jpg', '/content/drive/MyDrive/OpenDataset/Sequence01/00424.jpg', '/content/drive/MyDrive/OpenDataset/Sequence01/00425.jpg', '/content/drive/MyDrive/OpenDataset/Sequence01/00426.jpg', '/content/drive/MyDrive/OpenDataset/Sequence01/00427.jpg', '/content/drive/MyDrive/OpenDataset/Sequence01/00428.jpg', '/content/drive/MyDrive/OpenDataset/Sequence01/00429.jpg', '/content/drive/MyDrive/OpenDataset/Sequence01/00430.jpg', '/content/drive/MyDrive/OpenDataset/Sequence01/00431.jpg', '/content/drive/MyDrive/OpenDataset/Sequence01/00432.jpg', '/content/drive/MyDrive/OpenDataset/Sequence01/00433.jpg', '/content/drive/MyDrive/OpenDataset/Sequence01/00434.jpg', '/content/drive/MyDrive/OpenDataset/Sequence01/00435.jpg', '/content/drive/MyDrive/OpenDataset/Sequence01/00436.jpg', '/content/drive/MyDrive/OpenDataset/Sequence01/00437.jpg', '/content/drive/MyDrive/OpenDataset/Sequence01/00438.jpg', '/content/drive/MyDrive/OpenDataset/Sequence01/00439.jpg', '/content/drive/MyDrive/OpenDataset/Sequence01/00440.jpg', '/content/drive/MyDrive/OpenDataset/Sequence01/00441.jpg', '/content/drive/MyDrive/OpenDataset/Sequence01/00442.jpg', '/content/drive/MyDrive/OpenDataset/Sequence01/00443.jpg', '/content/drive/MyDrive/OpenDataset/Sequence01/00444.jpg', '/content/drive/MyDrive/OpenDataset/Sequence01/00445.jpg', '/content/drive/MyDrive/OpenDataset/Sequence01/00446.jpg', '/content/drive/MyDrive/OpenDataset/Sequence01/00447.jpg', '/content/drive/MyDrive/OpenDataset/Sequence01/00448.jpg', '/content/drive/MyDrive/OpenDataset/Sequence01/00449.jpg', '/content/drive/MyDrive/OpenDataset/Sequence01/00450.jpg', '/content/drive/MyDrive/OpenDataset/Sequence01/00451.jpg', '/content/drive/MyDrive/OpenDataset/Sequence01/00452.jpg', '/content/drive/MyDrive/OpenDataset/Sequence01/00453.jpg', '/content/drive/MyDrive/OpenDataset/Sequence01/00454.jpg', '/content/drive/MyDrive/OpenDataset/Sequence01/00455.jpg', '/content/drive/MyDrive/OpenDataset/Sequence01/00456.jpg', '/content/drive/MyDrive/OpenDataset/Sequence01/00457.jpg', '/content/drive/MyDrive/OpenDataset/Sequence01/00458.jpg', '/content/drive/MyDrive/OpenDataset/Sequence01/00459.jpg', '/content/drive/MyDrive/OpenDataset/Sequence01/00460.jpg', '/content/drive/MyDrive/OpenDataset/Sequence01/00461.jpg', '/content/drive/MyDrive/OpenDataset/Sequence01/00462.jpg', '/content/drive/MyDrive/OpenDataset/Sequence01/00463.jpg', '/content/drive/MyDrive/OpenDataset/Sequence01/00464.jpg', '/content/drive/MyDrive/OpenDataset/Sequence01/00465.jpg', '/content/drive/MyDrive/OpenDataset/Sequence01/00466.jpg', '/content/drive/MyDrive/OpenDataset/Sequence01/00467.jpg', '/content/drive/MyDrive/OpenDataset/Sequence01/00468.jpg', '/content/drive/MyDrive/OpenDataset/Sequence01/00469.jpg', '/content/drive/MyDrive/OpenDataset/Sequence01/00470.jpg', '/content/drive/MyDrive/OpenDataset/Sequence01/00471.jpg', '/content/drive/MyDrive/OpenDataset/Sequence01/00472.jpg', '/content/drive/MyDrive/OpenDataset/Sequence01/00473.jpg', '/content/drive/MyDrive/OpenDataset/Sequence01/00474.jpg', '/content/drive/MyDrive/OpenDataset/Sequence01/00475.jpg', '/content/drive/MyDrive/OpenDataset/Sequence01/00476.jpg', '/content/drive/MyDrive/OpenDataset/Sequence01/00477.jpg', '/content/drive/MyDrive/OpenDataset/Sequence01/00478.jpg', '/content/drive/MyDrive/OpenDataset/Sequence01/00479.jpg', '/content/drive/MyDrive/OpenDataset/Sequence01/00480.jpg', '/content/drive/MyDrive/OpenDataset/Sequence01/00481.jpg', '/content/drive/MyDrive/OpenDataset/Sequence01/00482.jpg', '/content/drive/MyDrive/OpenDataset/Sequence01/00483.jpg', '/content/drive/MyDrive/OpenDataset/Sequence01/00484.jpg', '/content/drive/MyDrive/OpenDataset/Sequence01/00485.jpg', '/content/drive/MyDrive/OpenDataset/Sequence01/00486.jpg', '/content/drive/MyDrive/OpenDataset/Sequence01/00487.jpg', '/content/drive/MyDrive/OpenDataset/Sequence01/00488.jpg', '/content/drive/MyDrive/OpenDataset/Sequence01/00489.jpg', '/content/drive/MyDrive/OpenDataset/Sequence01/00490.jpg', '/content/drive/MyDrive/OpenDataset/Sequence01/00491.jpg', '/content/drive/MyDrive/OpenDataset/Sequence01/00492.jpg', '/content/drive/MyDrive/OpenDataset/Sequence01/00493.jpg', '/content/drive/MyDrive/OpenDataset/Sequence01/00494.jpg', '/content/drive/MyDrive/OpenDataset/Sequence01/00495.jpg', '/content/drive/MyDrive/OpenDataset/Sequence01/00496.jpg', '/content/drive/MyDrive/OpenDataset/Sequence01/00497.jpg', '/content/drive/MyDrive/OpenDataset/Sequence01/00498.jpg', '/content/drive/MyDrive/OpenDataset/Sequence01/00499.jpg', '/content/drive/MyDrive/OpenDataset/Sequence01/00500.jpg', '/content/drive/MyDrive/OpenDataset/Sequence01/00501.jpg', '/content/drive/MyDrive/OpenDataset/Sequence01/00502.jpg', '/content/drive/MyDrive/OpenDataset/Sequence01/00503.jpg', '/content/drive/MyDrive/OpenDataset/Sequence01/00504.jpg', '/content/drive/MyDrive/OpenDataset/Sequence01/00505.jpg', '/content/drive/MyDrive/OpenDataset/Sequence01/00506.jpg', '/content/drive/MyDrive/OpenDataset/Sequence01/00507.jpg', '/content/drive/MyDrive/OpenDataset/Sequence01/00508.jpg', '/content/drive/MyDrive/OpenDataset/Sequence01/00509.jpg', '/content/drive/MyDrive/OpenDataset/Sequence01/00510.jpg', '/content/drive/MyDrive/OpenDataset/Sequence01/00511.jpg', '/content/drive/MyDrive/OpenDataset/Sequence01/00512.jpg', '/content/drive/MyDrive/OpenDataset/Sequence01/00513.jpg', '/content/drive/MyDrive/OpenDataset/Sequence01/00514.jpg', '/content/drive/MyDrive/OpenDataset/Sequence01/00515.jpg', '/content/drive/MyDrive/OpenDataset/Sequence01/00516.jpg', '/content/drive/MyDrive/OpenDataset/Sequence01/00517.jpg', '/content/drive/MyDrive/OpenDataset/Sequence01/00518.jpg', '/content/drive/MyDrive/OpenDataset/Sequence01/00519.jpg', '/content/drive/MyDrive/OpenDataset/Sequence01/00520.jpg', '/content/drive/MyDrive/OpenDataset/Sequence01/00521.jpg', '/content/drive/MyDrive/OpenDataset/Sequence01/00522.jpg', '/content/drive/MyDrive/OpenDataset/Sequence01/00523.jpg', '/content/drive/MyDrive/OpenDataset/Sequence01/00524.jpg', '/content/drive/MyDrive/OpenDataset/Sequence01/00525.jpg', '/content/drive/MyDrive/OpenDataset/Sequence01/00526.jpg', '/content/drive/MyDrive/OpenDataset/Sequence01/00527.jpg', '/content/drive/MyDrive/OpenDataset/Sequence01/00528.jpg', '/content/drive/MyDrive/OpenDataset/Sequence01/00529.jpg', '/content/drive/MyDrive/OpenDataset/Sequence01/00530.jpg', '/content/drive/MyDrive/OpenDataset/Sequence01/00531.jpg', '/content/drive/MyDrive/OpenDataset/Sequence01/00532.jpg', '/content/drive/MyDrive/OpenDataset/Sequence01/00533.jpg', '/content/drive/MyDrive/OpenDataset/Sequence01/00534.jpg', '/content/drive/MyDrive/OpenDataset/Sequence01/00535.jpg', '/content/drive/MyDrive/OpenDataset/Sequence01/00536.jpg', '/content/drive/MyDrive/OpenDataset/Sequence01/00537.jpg', '/content/drive/MyDrive/OpenDataset/Sequence01/00538.jpg', '/content/drive/MyDrive/OpenDataset/Sequence01/00539.jpg', '/content/drive/MyDrive/OpenDataset/Sequence01/00540.jpg', '/content/drive/MyDrive/OpenDataset/Sequence01/00541.jpg', '/content/drive/MyDrive/OpenDataset/Sequence01/00542.jpg', '/content/drive/MyDrive/OpenDataset/Sequence01/00543.jpg', '/content/drive/MyDrive/OpenDataset/Sequence01/00544.jpg', '/content/drive/MyDrive/OpenDataset/Sequence01/00545.jpg', '/content/drive/MyDrive/OpenDataset/Sequence01/00546.jpg', '/content/drive/MyDrive/OpenDataset/Sequence01/00547.jpg', '/content/drive/MyDrive/OpenDataset/Sequence01/00548.jpg', '/content/drive/MyDrive/OpenDataset/Sequence01/00549.jpg', '/content/drive/MyDrive/OpenDataset/Sequence01/00550.jpg', '/content/drive/MyDrive/OpenDataset/Sequence01/00551.jpg', '/content/drive/MyDrive/OpenDataset/Sequence01/00552.jpg', '/content/drive/MyDrive/OpenDataset/Sequence01/00553.jpg', '/content/drive/MyDrive/OpenDataset/Sequence01/00554.jpg', '/content/drive/MyDrive/OpenDataset/Sequence01/00555.jpg', '/content/drive/MyDrive/OpenDataset/Sequence01/00556.jpg', '/content/drive/MyDrive/OpenDataset/Sequence01/00557.jpg', '/content/drive/MyDrive/OpenDataset/Sequence01/00558.jpg', '/content/drive/MyDrive/OpenDataset/Sequence01/00559.jpg', '/content/drive/MyDrive/OpenDataset/Sequence01/00560.jpg', '/content/drive/MyDrive/OpenDataset/Sequence01/00561.jpg', '/content/drive/MyDrive/OpenDataset/Sequence01/00562.jpg', '/content/drive/MyDrive/OpenDataset/Sequence01/00563.jpg', '/content/drive/MyDrive/OpenDataset/Sequence01/00564.jpg', '/content/drive/MyDrive/OpenDataset/Sequence01/00565.jpg', '/content/drive/MyDrive/OpenDataset/Sequence01/00566.jpg', '/content/drive/MyDrive/OpenDataset/Sequence01/00567.jpg', '/content/drive/MyDrive/OpenDataset/Sequence01/00568.jpg', '/content/drive/MyDrive/OpenDataset/Sequence01/00569.jpg', '/content/drive/MyDrive/OpenDataset/Sequence01/00570.jpg', '/content/drive/MyDrive/OpenDataset/Sequence01/00571.jpg', '/content/drive/MyDrive/OpenDataset/Sequence01/00572.jpg', '/content/drive/MyDrive/OpenDataset/Sequence01/00573.jpg', '/content/drive/MyDrive/OpenDataset/Sequence01/00574.jpg', '/content/drive/MyDrive/OpenDataset/Sequence01/00575.jpg', '/content/drive/MyDrive/OpenDataset/Sequence01/00576.jpg', '/content/drive/MyDrive/OpenDataset/Sequence01/00577.jpg', '/content/drive/MyDrive/OpenDataset/Sequence01/00578.jpg', '/content/drive/MyDrive/OpenDataset/Sequence01/00579.jpg', '/content/drive/MyDrive/OpenDataset/Sequence01/00580.jpg', '/content/drive/MyDrive/OpenDataset/Sequence01/00581.jpg', '/content/drive/MyDrive/OpenDataset/Sequence01/00582.jpg', '/content/drive/MyDrive/OpenDataset/Sequence01/00583.jpg', '/content/drive/MyDrive/OpenDataset/Sequence01/00584.jpg', '/content/drive/MyDrive/OpenDataset/Sequence01/00585.jpg', '/content/drive/MyDrive/OpenDataset/Sequence01/00586.jpg', '/content/drive/MyDrive/OpenDataset/Sequence01/00587.jpg', '/content/drive/MyDrive/OpenDataset/Sequence01/00588.jpg', '/content/drive/MyDrive/OpenDataset/Sequence01/00589.jpg', '/content/drive/MyDrive/OpenDataset/Sequence01/00590.jpg', '/content/drive/MyDrive/OpenDataset/Sequence01/00591.jpg', '/content/drive/MyDrive/OpenDataset/Sequence01/00592.jpg', '/content/drive/MyDrive/OpenDataset/Sequence01/00593.jpg', '/content/drive/MyDrive/OpenDataset/Sequence01/00594.jpg', '/content/drive/MyDrive/OpenDataset/Sequence01/00595.jpg', '/content/drive/MyDrive/OpenDataset/Sequence01/00596.jpg', '/content/drive/MyDrive/OpenDataset/Sequence01/00597.jpg', '/content/drive/MyDrive/OpenDataset/Sequence01/00598.jpg', '/content/drive/MyDrive/OpenDataset/Sequence01/00599.jpg', '/content/drive/MyDrive/OpenDataset/Sequence01/00600.jpg', '/content/drive/MyDrive/OpenDataset/Sequence01/00601.jpg', '/content/drive/MyDrive/OpenDataset/Sequence01/00602.jpg', '/content/drive/MyDrive/OpenDataset/Sequence01/00603.jpg', '/content/drive/MyDrive/OpenDataset/Sequence01/00604.jpg', '/content/drive/MyDrive/OpenDataset/Sequence01/00605.jpg', '/content/drive/MyDrive/OpenDataset/Sequence01/00606.jpg', '/content/drive/MyDrive/OpenDataset/Sequence01/00607.jpg', '/content/drive/MyDrive/OpenDataset/Sequence01/00608.jpg', '/content/drive/MyDrive/OpenDataset/Sequence01/00609.jpg', '/content/drive/MyDrive/OpenDataset/Sequence01/00610.jpg', '/content/drive/MyDrive/OpenDataset/Sequence01/00611.jpg', '/content/drive/MyDrive/OpenDataset/Sequence01/00612.jpg', '/content/drive/MyDrive/OpenDataset/Sequence01/00613.jpg', '/content/drive/MyDrive/OpenDataset/Sequence01/00614.jpg', '/content/drive/MyDrive/OpenDataset/Sequence01/00615.jpg', '/content/drive/MyDrive/OpenDataset/Sequence01/00616.jpg', '/content/drive/MyDrive/OpenDataset/Sequence01/00617.jpg', '/content/drive/MyDrive/OpenDataset/Sequence01/00618.jpg', '/content/drive/MyDrive/OpenDataset/Sequence01/00619.jpg', '/content/drive/MyDrive/OpenDataset/Sequence01/00620.jpg', '/content/drive/MyDrive/OpenDataset/Sequence01/00621.jpg', '/content/drive/MyDrive/OpenDataset/Sequence01/00622.jpg', '/content/drive/MyDrive/OpenDataset/Sequence01/00623.jpg', '/content/drive/MyDrive/OpenDataset/Sequence01/00624.jpg', '/content/drive/MyDrive/OpenDataset/Sequence01/00625.jpg', '/content/drive/MyDrive/OpenDataset/Sequence01/00626.jpg', '/content/drive/MyDrive/OpenDataset/Sequence01/00627.jpg', '/content/drive/MyDrive/OpenDataset/Sequence01/00628.jpg', '/content/drive/MyDrive/OpenDataset/Sequence01/00629.jpg', '/content/drive/MyDrive/OpenDataset/Sequence01/00630.jpg', '/content/drive/MyDrive/OpenDataset/Sequence01/00631.jpg', '/content/drive/MyDrive/OpenDataset/Sequence01/00632.jpg', '/content/drive/MyDrive/OpenDataset/Sequence01/00633.jpg', '/content/drive/MyDrive/OpenDataset/Sequence01/00634.jpg', '/content/drive/MyDrive/OpenDataset/Sequence01/00635.jpg', '/content/drive/MyDrive/OpenDataset/Sequence01/00636.jpg', '/content/drive/MyDrive/OpenDataset/Sequence01/00637.jpg', '/content/drive/MyDrive/OpenDataset/Sequence01/00638.jpg', '/content/drive/MyDrive/OpenDataset/Sequence01/00639.jpg', '/content/drive/MyDrive/OpenDataset/Sequence01/00640.jpg', '/content/drive/MyDrive/OpenDataset/Sequence01/00641.jpg', '/content/drive/MyDrive/OpenDataset/Sequence01/00642.jpg', '/content/drive/MyDrive/OpenDataset/Sequence01/00643.jpg', '/content/drive/MyDrive/OpenDataset/Sequence01/00644.jpg', '/content/drive/MyDrive/OpenDataset/Sequence01/00645.jpg', '/content/drive/MyDrive/OpenDataset/Sequence01/00646.jpg', '/content/drive/MyDrive/OpenDataset/Sequence01/00647.jpg', '/content/drive/MyDrive/OpenDataset/Sequence01/00648.jpg', '/content/drive/MyDrive/OpenDataset/Sequence01/00649.jpg', '/content/drive/MyDrive/OpenDataset/Sequence01/00650.jpg', '/content/drive/MyDrive/OpenDataset/Sequence01/00651.jpg', '/content/drive/MyDrive/OpenDataset/Sequence01/00652.jpg', '/content/drive/MyDrive/OpenDataset/Sequence01/00653.jpg', '/content/drive/MyDrive/OpenDataset/Sequence01/00654.jpg', '/content/drive/MyDrive/OpenDataset/Sequence01/00655.jpg', '/content/drive/MyDrive/OpenDataset/Sequence01/00656.jpg', '/content/drive/MyDrive/OpenDataset/Sequence01/00657.jpg', '/content/drive/MyDrive/OpenDataset/Sequence01/00658.jpg', '/content/drive/MyDrive/OpenDataset/Sequence01/00659.jpg', '/content/drive/MyDrive/OpenDataset/Sequence01/00660.jpg', '/content/drive/MyDrive/OpenDataset/Sequence01/00661.jpg', '/content/drive/MyDrive/OpenDataset/Sequence01/00662.jpg', '/content/drive/MyDrive/OpenDataset/Sequence01/00663.jpg', '/content/drive/MyDrive/OpenDataset/Sequence01/00664.jpg', '/content/drive/MyDrive/OpenDataset/Sequence01/00665.jpg', '/content/drive/MyDrive/OpenDataset/Sequence01/00666.jpg', '/content/drive/MyDrive/OpenDataset/Sequence01/00667.jpg', '/content/drive/MyDrive/OpenDataset/Sequence01/00668.jpg', '/content/drive/MyDrive/OpenDataset/Sequence01/00669.jpg', '/content/drive/MyDrive/OpenDataset/Sequence01/00670.jpg', '/content/drive/MyDrive/OpenDataset/Sequence01/00671.jpg', '/content/drive/MyDrive/OpenDataset/Sequence01/00672.jpg', '/content/drive/MyDrive/OpenDataset/Sequence01/00673.jpg', '/content/drive/MyDrive/OpenDataset/Sequence01/00674.jpg', '/content/drive/MyDrive/OpenDataset/Sequence01/00675.jpg', '/content/drive/MyDrive/OpenDataset/Sequence01/00676.jpg', '/content/drive/MyDrive/OpenDataset/Sequence01/00677.jpg', '/content/drive/MyDrive/OpenDataset/Sequence01/00678.jpg', '/content/drive/MyDrive/OpenDataset/Sequence01/00679.jpg', '/content/drive/MyDrive/OpenDataset/Sequence01/00680.jpg', '/content/drive/MyDrive/OpenDataset/Sequence01/00681.jpg', '/content/drive/MyDrive/OpenDataset/Sequence01/00682.jpg', '/content/drive/MyDrive/OpenDataset/Sequence01/00683.jpg', '/content/drive/MyDrive/OpenDataset/Sequence01/00684.jpg', '/content/drive/MyDrive/OpenDataset/Sequence01/00685.jpg', '/content/drive/MyDrive/OpenDataset/Sequence01/00686.jpg', '/content/drive/MyDrive/OpenDataset/Sequence01/00687.jpg', '/content/drive/MyDrive/OpenDataset/Sequence01/00688.jpg', '/content/drive/MyDrive/OpenDataset/Sequence01/00689.jpg', '/content/drive/MyDrive/OpenDataset/Sequence01/00690.jpg', '/content/drive/MyDrive/OpenDataset/Sequence01/00691.jpg', '/content/drive/MyDrive/OpenDataset/Sequence01/00692.jpg', '/content/drive/MyDrive/OpenDataset/Sequence01/00693.jpg', '/content/drive/MyDrive/OpenDataset/Sequence01/00694.jpg', '/content/drive/MyDrive/OpenDataset/Sequence01/00695.jpg', '/content/drive/MyDrive/OpenDataset/Sequence01/00696.jpg', '/content/drive/MyDrive/OpenDataset/Sequence01/00697.jpg', '/content/drive/MyDrive/OpenDataset/Sequence01/00698.jpg', '/content/drive/MyDrive/OpenDataset/Sequence01/00699.jpg', '/content/drive/MyDrive/OpenDataset/Sequence01/00700.jpg', '/content/drive/MyDrive/OpenDataset/Sequence01/00701.jpg', '/content/drive/MyDrive/OpenDataset/Sequence01/00702.jpg', '/content/drive/MyDrive/OpenDataset/Sequence01/00703.jpg', '/content/drive/MyDrive/OpenDataset/Sequence01/00704.jpg', '/content/drive/MyDrive/OpenDataset/Sequence01/00705.jpg', '/content/drive/MyDrive/OpenDataset/Sequence01/00706.jpg', '/content/drive/MyDrive/OpenDataset/Sequence01/00707.jpg', '/content/drive/MyDrive/OpenDataset/Sequence01/00708.jpg', '/content/drive/MyDrive/OpenDataset/Sequence01/00709.jpg', '/content/drive/MyDrive/OpenDataset/Sequence01/00710.jpg', '/content/drive/MyDrive/OpenDataset/Sequence01/00711.jpg', '/content/drive/MyDrive/OpenDataset/Sequence01/00712.jpg', '/content/drive/MyDrive/OpenDataset/Sequence01/00713.jpg', '/content/drive/MyDrive/OpenDataset/Sequence01/00714.jpg', '/content/drive/MyDrive/OpenDataset/Sequence01/00715.jpg', '/content/drive/MyDrive/OpenDataset/Sequence01/00716.jpg', '/content/drive/MyDrive/OpenDataset/Sequence01/00717.jpg', '/content/drive/MyDrive/OpenDataset/Sequence01/00718.jpg', '/content/drive/MyDrive/OpenDataset/Sequence01/00719.jpg', '/content/drive/MyDrive/OpenDataset/Sequence01/00720.jpg', '/content/drive/MyDrive/OpenDataset/Sequence01/00721.jpg', '/content/drive/MyDrive/OpenDataset/Sequence01/00722.jpg', '/content/drive/MyDrive/OpenDataset/Sequence01/00723.jpg', '/content/drive/MyDrive/OpenDataset/Sequence01/00724.jpg', '/content/drive/MyDrive/OpenDataset/Sequence01/00725.jpg', '/content/drive/MyDrive/OpenDataset/Sequence01/00726.jpg', '/content/drive/MyDrive/OpenDataset/Sequence01/00727.jpg', '/content/drive/MyDrive/OpenDataset/Sequence01/00728.jpg', '/content/drive/MyDrive/OpenDataset/Sequence01/00729.jpg', '/content/drive/MyDrive/OpenDataset/Sequence01/00730.jpg', '/content/drive/MyDrive/OpenDataset/Sequence01/00731.jpg', '/content/drive/MyDrive/OpenDataset/Sequence01/00732.jpg', '/content/drive/MyDrive/OpenDataset/Sequence01/00733.jpg', '/content/drive/MyDrive/OpenDataset/Sequence01/00734.jpg', '/content/drive/MyDrive/OpenDataset/Sequence01/00735.jpg', '/content/drive/MyDrive/OpenDataset/Sequence01/00736.jpg', '/content/drive/MyDrive/OpenDataset/Sequence01/00737.jpg', '/content/drive/MyDrive/OpenDataset/Sequence01/00738.jpg', '/content/drive/MyDrive/OpenDataset/Sequence01/00739.jpg', '/content/drive/MyDrive/OpenDataset/Sequence01/00740.jpg', '/content/drive/MyDrive/OpenDataset/Sequence01/00741.jpg', '/content/drive/MyDrive/OpenDataset/Sequence01/00742.jpg', '/content/drive/MyDrive/OpenDataset/Sequence01/00743.jpg', '/content/drive/MyDrive/OpenDataset/Sequence01/00744.jpg', '/content/drive/MyDrive/OpenDataset/Sequence01/00745.jpg', '/content/drive/MyDrive/OpenDataset/Sequence01/00746.jpg', '/content/drive/MyDrive/OpenDataset/Sequence01/00747.jpg', '/content/drive/MyDrive/OpenDataset/Sequence01/00748.jpg', '/content/drive/MyDrive/OpenDataset/Sequence01/00749.jpg', '/content/drive/MyDrive/OpenDataset/Sequence01/00750.jpg', '/content/drive/MyDrive/OpenDataset/Sequence01/00751.jpg', '/content/drive/MyDrive/OpenDataset/Sequence01/00752.jpg', '/content/drive/MyDrive/OpenDataset/Sequence01/00753.jpg', '/content/drive/MyDrive/OpenDataset/Sequence01/00754.jpg', '/content/drive/MyDrive/OpenDataset/Sequence01/00755.jpg', '/content/drive/MyDrive/OpenDataset/Sequence01/00756.jpg', '/content/drive/MyDrive/OpenDataset/Sequence01/00757.jpg', '/content/drive/MyDrive/OpenDataset/Sequence01/00758.jpg', '/content/drive/MyDrive/OpenDataset/Sequence01/00759.jpg', '/content/drive/MyDrive/OpenDataset/Sequence01/00760.jpg', '/content/drive/MyDrive/OpenDataset/Sequence01/00761.jpg', '/content/drive/MyDrive/OpenDataset/Sequence01/00762.jpg', '/content/drive/MyDrive/OpenDataset/Sequence01/00763.jpg', '/content/drive/MyDrive/OpenDataset/Sequence01/00764.jpg', '/content/drive/MyDrive/OpenDataset/Sequence01/00765.jpg', '/content/drive/MyDrive/OpenDataset/Sequence01/00766.jpg', '/content/drive/MyDrive/OpenDataset/Sequence01/00767.jpg', '/content/drive/MyDrive/OpenDataset/Sequence01/00768.jpg', '/content/drive/MyDrive/OpenDataset/Sequence01/00769.jpg', '/content/drive/MyDrive/OpenDataset/Sequence01/00770.jpg', '/content/drive/MyDrive/OpenDataset/Sequence01/00771.jpg', '/content/drive/MyDrive/OpenDataset/Sequence01/00772.jpg', '/content/drive/MyDrive/OpenDataset/Sequence01/00773.jpg', '/content/drive/MyDrive/OpenDataset/Sequence01/00774.jpg', '/content/drive/MyDrive/OpenDataset/Sequence01/00775.jpg', '/content/drive/MyDrive/OpenDataset/Sequence01/00776.jpg', '/content/drive/MyDrive/OpenDataset/Sequence01/00777.jpg', '/content/drive/MyDrive/OpenDataset/Sequence01/00778.jpg', '/content/drive/MyDrive/OpenDataset/Sequence01/00779.jpg', '/content/drive/MyDrive/OpenDataset/Sequence01/00780.jpg', '/content/drive/MyDrive/OpenDataset/Sequence01/00781.jpg', '/content/drive/MyDrive/OpenDataset/Sequence01/00782.jpg', '/content/drive/MyDrive/OpenDataset/Sequence01/00783.jpg', '/content/drive/MyDrive/OpenDataset/Sequence01/00784.jpg', '/content/drive/MyDrive/OpenDataset/Sequence01/00785.jpg', '/content/drive/MyDrive/OpenDataset/Sequence01/00786.jpg', '/content/drive/MyDrive/OpenDataset/Sequence01/00787.jpg', '/content/drive/MyDrive/OpenDataset/Sequence01/00788.jpg', '/content/drive/MyDrive/OpenDataset/Sequence01/00789.jpg', '/content/drive/MyDrive/OpenDataset/Sequence01/00790.jpg', '/content/drive/MyDrive/OpenDataset/Sequence01/00791.jpg', '/content/drive/MyDrive/OpenDataset/Sequence01/00792.jpg', '/content/drive/MyDrive/OpenDataset/Sequence01/00793.jpg', '/content/drive/MyDrive/OpenDataset/Sequence01/00794.jpg', '/content/drive/MyDrive/OpenDataset/Sequence01/00795.jpg', '/content/drive/MyDrive/OpenDataset/Sequence01/00796.jpg', '/content/drive/MyDrive/OpenDataset/Sequence01/00797.jpg', '/content/drive/MyDrive/OpenDataset/Sequence01/00798.jpg', '/content/drive/MyDrive/OpenDataset/Sequence01/00799.jpg', '/content/drive/MyDrive/OpenDataset/Sequence01/00800.jpg', '/content/drive/MyDrive/OpenDataset/Sequence01/00801.jpg', '/content/drive/MyDrive/OpenDataset/Sequence01/00802.jpg', '/content/drive/MyDrive/OpenDataset/Sequence01/00803.jpg', '/content/drive/MyDrive/OpenDataset/Sequence01/00804.jpg', '/content/drive/MyDrive/OpenDataset/Sequence01/00805.jpg', '/content/drive/MyDrive/OpenDataset/Sequence01/00806.jpg', '/content/drive/MyDrive/OpenDataset/Sequence01/00807.jpg', '/content/drive/MyDrive/OpenDataset/Sequence01/00808.jpg', '/content/drive/MyDrive/OpenDataset/Sequence01/00809.jpg', '/content/drive/MyDrive/OpenDataset/Sequence01/00810.jpg', '/content/drive/MyDrive/OpenDataset/Sequence01/00811.jpg', '/content/drive/MyDrive/OpenDataset/Sequence01/00812.jpg', '/content/drive/MyDrive/OpenDataset/Sequence01/00813.jpg', '/content/drive/MyDrive/OpenDataset/Sequence01/00814.jpg', '/content/drive/MyDrive/OpenDataset/Sequence01/00815.jpg', '/content/drive/MyDrive/OpenDataset/Sequence01/00816.jpg', '/content/drive/MyDrive/OpenDataset/Sequence01/00817.jpg', '/content/drive/MyDrive/OpenDataset/Sequence01/00818.jpg', '/content/drive/MyDrive/OpenDataset/Sequence01/00819.jpg', '/content/drive/MyDrive/OpenDataset/Sequence01/00820.jpg', '/content/drive/MyDrive/OpenDataset/Sequence01/00821.jpg', '/content/drive/MyDrive/OpenDataset/Sequence01/00822.jpg', '/content/drive/MyDrive/OpenDataset/Sequence01/00823.jpg', '/content/drive/MyDrive/OpenDataset/Sequence01/00824.jpg', '/content/drive/MyDrive/OpenDataset/Sequence01/00825.jpg', '/content/drive/MyDrive/OpenDataset/Sequence01/00826.jpg', '/content/drive/MyDrive/OpenDataset/Sequence01/00827.jpg', '/content/drive/MyDrive/OpenDataset/Sequence01/00828.jpg', '/content/drive/MyDrive/OpenDataset/Sequence01/00829.jpg', '/content/drive/MyDrive/OpenDataset/Sequence01/00830.jpg', '/content/drive/MyDrive/OpenDataset/Sequence01/00831.jpg', '/content/drive/MyDrive/OpenDataset/Sequence01/00832.jpg', '/content/drive/MyDrive/OpenDataset/Sequence01/00833.jpg', '/content/drive/MyDrive/OpenDataset/Sequence01/00834.jpg', '/content/drive/MyDrive/OpenDataset/Sequence01/00835.jpg', '/content/drive/MyDrive/OpenDataset/Sequence01/00836.jpg', '/content/drive/MyDrive/OpenDataset/Sequence01/00837.jpg', '/content/drive/MyDrive/OpenDataset/Sequence01/00838.jpg', '/content/drive/MyDrive/OpenDataset/Sequence01/00839.jpg', '/content/drive/MyDrive/OpenDataset/Sequence01/00840.jpg', '/content/drive/MyDrive/OpenDataset/Sequence01/00841.jpg', '/content/drive/MyDrive/OpenDataset/Sequence01/00842.jpg', '/content/drive/MyDrive/OpenDataset/Sequence01/00843.jpg', '/content/drive/MyDrive/OpenDataset/Sequence01/00844.jpg', '/content/drive/MyDrive/OpenDataset/Sequence01/00845.jpg', '/content/drive/MyDrive/OpenDataset/Sequence01/00846.jpg', '/content/drive/MyDrive/OpenDataset/Sequence01/00847.jpg', '/content/drive/MyDrive/OpenDataset/Sequence01/00848.jpg', '/content/drive/MyDrive/OpenDataset/Sequence01/00849.jpg', '/content/drive/MyDrive/OpenDataset/Sequence01/00850.jpg', '/content/drive/MyDrive/OpenDataset/Sequence01/00851.jpg', '/content/drive/MyDrive/OpenDataset/Sequence01/00852.jpg', '/content/drive/MyDrive/OpenDataset/Sequence01/00853.jpg', '/content/drive/MyDrive/OpenDataset/Sequence01/00854.jpg', '/content/drive/MyDrive/OpenDataset/Sequence01/00855.jpg', '/content/drive/MyDrive/OpenDataset/Sequence01/00856.jpg', '/content/drive/MyDrive/OpenDataset/Sequence01/00857.jpg', '/content/drive/MyDrive/OpenDataset/Sequence01/00858.jpg', '/content/drive/MyDrive/OpenDataset/Sequence01/00859.jpg', '/content/drive/MyDrive/OpenDataset/Sequence01/00860.jpg', '/content/drive/MyDrive/OpenDataset/Sequence01/00861.jpg', '/content/drive/MyDrive/OpenDataset/Sequence01/00862.jpg', '/content/drive/MyDrive/OpenDataset/Sequence01/00863.jpg', '/content/drive/MyDrive/OpenDataset/Sequence01/00864.jpg', '/content/drive/MyDrive/OpenDataset/Sequence01/00865.jpg', '/content/drive/MyDrive/OpenDataset/Sequence01/00866.jpg', '/content/drive/MyDrive/OpenDataset/Sequence01/00867.jpg', '/content/drive/MyDrive/OpenDataset/Sequence01/00868.jpg', '/content/drive/MyDrive/OpenDataset/Sequence01/00869.jpg', '/content/drive/MyDrive/OpenDataset/Sequence01/00870.jpg', '/content/drive/MyDrive/OpenDataset/Sequence01/00871.jpg', '/content/drive/MyDrive/OpenDataset/Sequence01/00872.jpg', '/content/drive/MyDrive/OpenDataset/Sequence01/00873.jpg', '/content/drive/MyDrive/OpenDataset/Sequence01/00874.jpg', '/content/drive/MyDrive/OpenDataset/Sequence01/00875.jpg', '/content/drive/MyDrive/OpenDataset/Sequence01/00876.jpg', '/content/drive/MyDrive/OpenDataset/Sequence01/00877.jpg', '/content/drive/MyDrive/OpenDataset/Sequence01/00878.jpg', '/content/drive/MyDrive/OpenDataset/Sequence01/00879.jpg', '/content/drive/MyDrive/OpenDataset/Sequence01/00880.jpg', '/content/drive/MyDrive/OpenDataset/Sequence01/00881.jpg', '/content/drive/MyDrive/OpenDataset/Sequence01/00882.jpg', '/content/drive/MyDrive/OpenDataset/Sequence01/00883.jpg', '/content/drive/MyDrive/OpenDataset/Sequence01/00884.jpg', '/content/drive/MyDrive/OpenDataset/Sequence01/00885.jpg', '/content/drive/MyDrive/OpenDataset/Sequence01/00886.jpg', '/content/drive/MyDrive/OpenDataset/Sequence01/00887.jpg', '/content/drive/MyDrive/OpenDataset/Sequence01/00888.jpg', '/content/drive/MyDrive/OpenDataset/Sequence01/00889.jpg', '/content/drive/MyDrive/OpenDataset/Sequence01/00890.jpg', '/content/drive/MyDrive/OpenDataset/Sequence01/00891.jpg', '/content/drive/MyDrive/OpenDataset/Sequence01/00892.jpg', '/content/drive/MyDrive/OpenDataset/Sequence01/00893.jpg', '/content/drive/MyDrive/OpenDataset/Sequence01/00894.jpg', '/content/drive/MyDrive/OpenDataset/Sequence01/00895.jpg', '/content/drive/MyDrive/OpenDataset/Sequence01/00896.jpg', '/content/drive/MyDrive/OpenDataset/Sequence01/00897.jpg', '/content/drive/MyDrive/OpenDataset/Sequence01/00898.jpg', '/content/drive/MyDrive/OpenDataset/Sequence01/00899.jpg', '/content/drive/MyDrive/OpenDataset/Sequence01/00900.jpg']\n"
          ],
          "name": "stdout"
        }
      ]
    },
    {
      "cell_type": "markdown",
      "metadata": {
        "id": "lFHKLc0GxfND"
      },
      "source": [
        "---"
      ]
    },
    {
      "cell_type": "markdown",
      "metadata": {
        "id": "4ZPkFpUYkwB7"
      },
      "source": [
        "---\r\n",
        "\r\n",
        "**문제풀이를 위한 카운트 변수 선언**\r\n",
        "\r\n",
        "문제를 푸는 코드에서 해당 변수를 적절한 시점에 카운트한다."
      ]
    },
    {
      "cell_type": "code",
      "metadata": {
        "id": "3y_RZ3CjjcsG"
      },
      "source": [
        "# 문제 변수\r\n",
        "num_sec1 = 0       # section1을 통과한 차량 대수\r\n",
        "num_sec2 = 0       # section2을 통과한 차량 대수\r\n",
        "num_sec3 = 0       # section3을 통과한 차량 대수\r\n",
        "num_sec4 = 0       # section4을 통과한 차량 대수\r\n",
        "num_straight = 0   # 직진 차량 대수\r\n",
        "num_left_turn = 0  # 좌회전 차량 대수\r\n",
        "num_right_turn = 0 # 우회전 차량 대수"
      ],
      "execution_count": null,
      "outputs": []
    },
    {
      "cell_type": "markdown",
      "metadata": {
        "id": "n9Fwz_MOxmsm"
      },
      "source": [
        "---"
      ]
    },
    {
      "cell_type": "markdown",
      "metadata": {
        "id": "JP4fzrwEE32d"
      },
      "source": [
        "---\r\n",
        "\r\n",
        "**\r\n",
        "***문제풀이 코드 입력***\r\n",
        "**\r\n",
        "\r\n",
        "---"
      ]
    },
    {
      "cell_type": "code",
      "metadata": {
        "id": "EiQXz3ZZzz2H"
      },
      "source": [
        "class UltraSimpleParkingSpaceClassificationNet(nn.Module):\r\n",
        "  def __init__(self):\r\n",
        "    super(UltraSimpleParkingSpaceClassificationNet,self).__init__()\r\n",
        "    num_sec1 = num_sec1+1\r\n",
        "    self.layers = nn.Sequential(\r\n",
        "      nn.Conv2d(3,32,3,padding=1),\r\n",
        "      nn.ReLU()\r\n",
        "    )\r\n",
        "    self.fc_layers = nn.Sequential(\r\n",
        "       nn.Linear(150*150*32, 100),\r\n",
        "       nn.ReLU(),\r\n",
        "       nn.Linear(100,2)\r\n",
        "  ) \r\n",
        "  \r\n",
        "  def forward(self, x):\r\n",
        "    out = self.layers(x)\r\n",
        "    out = out.view(BATCH_SIZE,-1)\r\n",
        "    out = self.fc_layers(out)\r\n",
        "    return out"
      ],
      "execution_count": null,
      "outputs": []
    },
    {
      "cell_type": "code",
      "metadata": {
        "id": "NUEH5tJ8zzMr"
      },
      "source": [
        "class ImageMultiFolder(Dataset):\r\n",
        "  def __init__(self,data_root):\r\n",
        "    self.imgNames = []\r\n",
        "\r\n",
        "    for parkingLot in os.listdir(data_root):\r\n",
        "      parkingLotPath = os.path.join(data_root, parkingLot)\r\n",
        "      for statePath in os.listdir(parkingLotPath):\r\n",
        "        img_filepath = os.path.join(parkingLotPath, statePath)\r\n",
        "        for img in os.listdir(img_filepath):\r\n",
        "          imgPath = os.path.join(img_filepath, img)\r\n",
        "          self.imgNames.append(imgPath)\r\n",
        "\r\n",
        "  def __len__(self):\r\n",
        "    return len(self.imgNames)\r\n",
        "\r\n",
        "  def __getitem__(self,idx):\r\n",
        "    img = cv2.imread(self.imgNames[idx])\r\n",
        "    img = cv2.cvtColor(img, cv2.COLOR_BGR2RGB).astype(np.float32) / 255.0\r\n",
        "    if 'busy' in self.imgNames[idx]:\r\n",
        "      state = 0\r\n",
        "    else:\r\n",
        "      state = 1\r\n",
        "\r\n",
        "    img_tensor = torch.from_numpy(img.transpose(2,0,1))\r\n",
        "    return img_tensor, state"
      ],
      "execution_count": null,
      "outputs": []
    },
    {
      "cell_type": "code",
      "metadata": {
        "id": "hMNP667xUcyQ"
      },
      "source": [
        "#DIR_path = Path(test_seq_path)\r\n",
        "#DIR_path = Path('/content/drive/MyDrive/OpenDataset/Sequence02')\r\n",
        "DIR_path = Path('/content/drive/MyDrive/OpenDataset/Sequence03')\r\n",
        "files_list = DIR_path.iterdir()\r\n",
        "\r\n",
        "for f in files_list:\r\n",
        "  img = cv2.imread(str(f))\r\n",
        "\r\n",
        "  if img is None:\r\n",
        "    print('unable to open',f)\r\n",
        "  else:\r\n",
        "    h,w,c = img.shape\r\n",
        "    if h!=150 or w !=150 or c!=3:\r\n",
        "      print('image',f,'has wrong dimension :', img.shape)\r\n",
        "      resized = cv2.resize(img, dsize=(150,150), interpolation = cv2.INTER_AREA)\r\n",
        "      cv2.imwrite(str(f),resized)"
      ],
      "execution_count": null,
      "outputs": []
    },
    {
      "cell_type": "code",
      "metadata": {
        "id": "vVOdcST9j-ZB"
      },
      "source": [
        "image_datasets = testSequenceDataset(test_seq_path)\r\n",
        "\r\n",
        "#왜 안되는거징!!\r\n",
        "# for img, label in dataloader:\r\n",
        "#      imgToShow = img.numpy()\r\n",
        "#      print(imgToShow.shape)\r\n",
        "#      print(label)\r\n",
        "#      imgToShow = np.transpose(imgToShow[0],(1,2,0))\r\n",
        "#      plt.imshow(imgToShow)\r\n",
        "#      plt.show()"
      ],
      "execution_count": null,
      "outputs": []
    },
    {
      "cell_type": "code",
      "metadata": {
        "id": "Pdd5ngXdj9Dy"
      },
      "source": [
        "train_size = int(len(image_datasets)*0.8)\r\n",
        "test_size = len(image_datasets)-train_size\r\n",
        "train_dataset, test_dataset = torch.utils.data.random_split(image_datasets,\r\n",
        "                                                            [train_size, test_size])\r\n",
        "\r\n",
        "train_loader = torch.utils.data.DataLoader(train_dataset,\r\n",
        "                                           batch_size = BATCH_SIZE,\r\n",
        "                                           shuffle = True,\r\n",
        "                                           num_workers = 8,\r\n",
        "                                           drop_last = True)\r\n",
        "\r\n",
        "test_loader = torch.utils.data.DataLoader(test_dataset,\r\n",
        "                                           batch_size = BATCH_SIZE,\r\n",
        "                                           shuffle = True,\r\n",
        "                                           num_workers = 8,\r\n",
        "                                           drop_last = True)"
      ],
      "execution_count": null,
      "outputs": []
    },
    {
      "cell_type": "code",
      "metadata": {
        "id": "dCY9a2AGzBYV"
      },
      "source": [
        "device = torch.device('cuda:0' if torch.cuda.is_available() else 'cpu')\r\n",
        "model = UltraSimpleParkingSpaceClassificationNet().to(device)\r\n",
        "model = model.train()\r\n",
        "loss_func = nn.CrossEntropyLoss()\r\n",
        "optimizer = torch.optim.Adam(model.parameters(), lr = 0.0002)"
      ],
      "execution_count": null,
      "outputs": []
    },
    {
      "cell_type": "code",
      "metadata": {
        "colab": {
          "base_uri": "https://localhost:8080/",
          "height": 407
        },
        "id": "A8kjBlVRzV4D",
        "outputId": "e835076b-d20d-4582-d979-5541a0fca0c8"
      },
      "source": [
        "num_epoch = 10\r\n",
        "\r\n",
        "for i in range(num_epoch):\r\n",
        "   for j, image in enumerate(train_loader):\r\n",
        "     x=image.to(device)\r\n",
        "     #y_ = label.to(device)\r\n",
        "\r\n",
        "     optimizer.zero_grad()\r\n",
        "     output = model.forward(x)\r\n",
        "     loss = loss_func(output)\r\n",
        "     loss.backward()\r\n",
        "     optimizer.step()\r\n",
        "\r\n",
        "     if j%100 == 0:\r\n",
        "      print('epoch:', i, ', batch:',j,', loss is:', loss.data.item())"
      ],
      "execution_count": null,
      "outputs": [
        {
          "output_type": "error",
          "ename": "RuntimeError",
          "evalue": "ignored",
          "traceback": [
            "\u001b[0;31m---------------------------------------------------------------------------\u001b[0m",
            "\u001b[0;31mRuntimeError\u001b[0m                              Traceback (most recent call last)",
            "\u001b[0;32m<ipython-input-158-f109df849bc9>\u001b[0m in \u001b[0;36m<module>\u001b[0;34m()\u001b[0m\n\u001b[1;32m      7\u001b[0m \u001b[0;34m\u001b[0m\u001b[0m\n\u001b[1;32m      8\u001b[0m      \u001b[0moptimizer\u001b[0m\u001b[0;34m.\u001b[0m\u001b[0mzero_grad\u001b[0m\u001b[0;34m(\u001b[0m\u001b[0;34m)\u001b[0m\u001b[0;34m\u001b[0m\u001b[0;34m\u001b[0m\u001b[0m\n\u001b[0;32m----> 9\u001b[0;31m      \u001b[0moutput\u001b[0m \u001b[0;34m=\u001b[0m \u001b[0mmodel\u001b[0m\u001b[0;34m.\u001b[0m\u001b[0mforward\u001b[0m\u001b[0;34m(\u001b[0m\u001b[0mx\u001b[0m\u001b[0;34m)\u001b[0m\u001b[0;34m\u001b[0m\u001b[0;34m\u001b[0m\u001b[0m\n\u001b[0m\u001b[1;32m     10\u001b[0m      \u001b[0mloss\u001b[0m \u001b[0;34m=\u001b[0m \u001b[0mloss_func\u001b[0m\u001b[0;34m(\u001b[0m\u001b[0moutput\u001b[0m\u001b[0;34m)\u001b[0m\u001b[0;34m\u001b[0m\u001b[0;34m\u001b[0m\u001b[0m\n\u001b[1;32m     11\u001b[0m      \u001b[0mloss\u001b[0m\u001b[0;34m.\u001b[0m\u001b[0mbackward\u001b[0m\u001b[0;34m(\u001b[0m\u001b[0;34m)\u001b[0m\u001b[0;34m\u001b[0m\u001b[0;34m\u001b[0m\u001b[0m\n",
            "\u001b[0;32m<ipython-input-81-062cd691b994>\u001b[0m in \u001b[0;36mforward\u001b[0;34m(self, x)\u001b[0m\n\u001b[1;32m     13\u001b[0m \u001b[0;34m\u001b[0m\u001b[0m\n\u001b[1;32m     14\u001b[0m   \u001b[0;32mdef\u001b[0m \u001b[0mforward\u001b[0m\u001b[0;34m(\u001b[0m\u001b[0mself\u001b[0m\u001b[0;34m,\u001b[0m \u001b[0mx\u001b[0m\u001b[0;34m)\u001b[0m\u001b[0;34m:\u001b[0m\u001b[0;34m\u001b[0m\u001b[0;34m\u001b[0m\u001b[0m\n\u001b[0;32m---> 15\u001b[0;31m     \u001b[0mout\u001b[0m \u001b[0;34m=\u001b[0m \u001b[0mself\u001b[0m\u001b[0;34m.\u001b[0m\u001b[0mlayers\u001b[0m\u001b[0;34m(\u001b[0m\u001b[0mx\u001b[0m\u001b[0;34m)\u001b[0m\u001b[0;34m\u001b[0m\u001b[0;34m\u001b[0m\u001b[0m\n\u001b[0m\u001b[1;32m     16\u001b[0m     \u001b[0mout\u001b[0m \u001b[0;34m=\u001b[0m \u001b[0mout\u001b[0m\u001b[0;34m.\u001b[0m\u001b[0mview\u001b[0m\u001b[0;34m(\u001b[0m\u001b[0mBATCH_SIZE\u001b[0m\u001b[0;34m,\u001b[0m\u001b[0;34m-\u001b[0m\u001b[0;36m1\u001b[0m\u001b[0;34m)\u001b[0m\u001b[0;34m\u001b[0m\u001b[0;34m\u001b[0m\u001b[0m\n\u001b[1;32m     17\u001b[0m     \u001b[0mout\u001b[0m \u001b[0;34m=\u001b[0m \u001b[0mself\u001b[0m\u001b[0;34m.\u001b[0m\u001b[0mfc_layers\u001b[0m\u001b[0;34m(\u001b[0m\u001b[0mout\u001b[0m\u001b[0;34m)\u001b[0m\u001b[0;34m\u001b[0m\u001b[0;34m\u001b[0m\u001b[0m\n",
            "\u001b[0;32m/usr/local/lib/python3.6/dist-packages/torch/nn/modules/module.py\u001b[0m in \u001b[0;36m_call_impl\u001b[0;34m(self, *input, **kwargs)\u001b[0m\n\u001b[1;32m    725\u001b[0m             \u001b[0mresult\u001b[0m \u001b[0;34m=\u001b[0m \u001b[0mself\u001b[0m\u001b[0;34m.\u001b[0m\u001b[0m_slow_forward\u001b[0m\u001b[0;34m(\u001b[0m\u001b[0;34m*\u001b[0m\u001b[0minput\u001b[0m\u001b[0;34m,\u001b[0m \u001b[0;34m**\u001b[0m\u001b[0mkwargs\u001b[0m\u001b[0;34m)\u001b[0m\u001b[0;34m\u001b[0m\u001b[0;34m\u001b[0m\u001b[0m\n\u001b[1;32m    726\u001b[0m         \u001b[0;32melse\u001b[0m\u001b[0;34m:\u001b[0m\u001b[0;34m\u001b[0m\u001b[0;34m\u001b[0m\u001b[0m\n\u001b[0;32m--> 727\u001b[0;31m             \u001b[0mresult\u001b[0m \u001b[0;34m=\u001b[0m \u001b[0mself\u001b[0m\u001b[0;34m.\u001b[0m\u001b[0mforward\u001b[0m\u001b[0;34m(\u001b[0m\u001b[0;34m*\u001b[0m\u001b[0minput\u001b[0m\u001b[0;34m,\u001b[0m \u001b[0;34m**\u001b[0m\u001b[0mkwargs\u001b[0m\u001b[0;34m)\u001b[0m\u001b[0;34m\u001b[0m\u001b[0;34m\u001b[0m\u001b[0m\n\u001b[0m\u001b[1;32m    728\u001b[0m         for hook in itertools.chain(\n\u001b[1;32m    729\u001b[0m                 \u001b[0m_global_forward_hooks\u001b[0m\u001b[0;34m.\u001b[0m\u001b[0mvalues\u001b[0m\u001b[0;34m(\u001b[0m\u001b[0;34m)\u001b[0m\u001b[0;34m,\u001b[0m\u001b[0;34m\u001b[0m\u001b[0;34m\u001b[0m\u001b[0m\n",
            "\u001b[0;32m/usr/local/lib/python3.6/dist-packages/torch/nn/modules/container.py\u001b[0m in \u001b[0;36mforward\u001b[0;34m(self, input)\u001b[0m\n\u001b[1;32m    115\u001b[0m     \u001b[0;32mdef\u001b[0m \u001b[0mforward\u001b[0m\u001b[0;34m(\u001b[0m\u001b[0mself\u001b[0m\u001b[0;34m,\u001b[0m \u001b[0minput\u001b[0m\u001b[0;34m)\u001b[0m\u001b[0;34m:\u001b[0m\u001b[0;34m\u001b[0m\u001b[0;34m\u001b[0m\u001b[0m\n\u001b[1;32m    116\u001b[0m         \u001b[0;32mfor\u001b[0m \u001b[0mmodule\u001b[0m \u001b[0;32min\u001b[0m \u001b[0mself\u001b[0m\u001b[0;34m:\u001b[0m\u001b[0;34m\u001b[0m\u001b[0;34m\u001b[0m\u001b[0m\n\u001b[0;32m--> 117\u001b[0;31m             \u001b[0minput\u001b[0m \u001b[0;34m=\u001b[0m \u001b[0mmodule\u001b[0m\u001b[0;34m(\u001b[0m\u001b[0minput\u001b[0m\u001b[0;34m)\u001b[0m\u001b[0;34m\u001b[0m\u001b[0;34m\u001b[0m\u001b[0m\n\u001b[0m\u001b[1;32m    118\u001b[0m         \u001b[0;32mreturn\u001b[0m \u001b[0minput\u001b[0m\u001b[0;34m\u001b[0m\u001b[0;34m\u001b[0m\u001b[0m\n\u001b[1;32m    119\u001b[0m \u001b[0;34m\u001b[0m\u001b[0m\n",
            "\u001b[0;32m/usr/local/lib/python3.6/dist-packages/torch/nn/modules/module.py\u001b[0m in \u001b[0;36m_call_impl\u001b[0;34m(self, *input, **kwargs)\u001b[0m\n\u001b[1;32m    725\u001b[0m             \u001b[0mresult\u001b[0m \u001b[0;34m=\u001b[0m \u001b[0mself\u001b[0m\u001b[0;34m.\u001b[0m\u001b[0m_slow_forward\u001b[0m\u001b[0;34m(\u001b[0m\u001b[0;34m*\u001b[0m\u001b[0minput\u001b[0m\u001b[0;34m,\u001b[0m \u001b[0;34m**\u001b[0m\u001b[0mkwargs\u001b[0m\u001b[0;34m)\u001b[0m\u001b[0;34m\u001b[0m\u001b[0;34m\u001b[0m\u001b[0m\n\u001b[1;32m    726\u001b[0m         \u001b[0;32melse\u001b[0m\u001b[0;34m:\u001b[0m\u001b[0;34m\u001b[0m\u001b[0;34m\u001b[0m\u001b[0m\n\u001b[0;32m--> 727\u001b[0;31m             \u001b[0mresult\u001b[0m \u001b[0;34m=\u001b[0m \u001b[0mself\u001b[0m\u001b[0;34m.\u001b[0m\u001b[0mforward\u001b[0m\u001b[0;34m(\u001b[0m\u001b[0;34m*\u001b[0m\u001b[0minput\u001b[0m\u001b[0;34m,\u001b[0m \u001b[0;34m**\u001b[0m\u001b[0mkwargs\u001b[0m\u001b[0;34m)\u001b[0m\u001b[0;34m\u001b[0m\u001b[0;34m\u001b[0m\u001b[0m\n\u001b[0m\u001b[1;32m    728\u001b[0m         for hook in itertools.chain(\n\u001b[1;32m    729\u001b[0m                 \u001b[0m_global_forward_hooks\u001b[0m\u001b[0;34m.\u001b[0m\u001b[0mvalues\u001b[0m\u001b[0;34m(\u001b[0m\u001b[0;34m)\u001b[0m\u001b[0;34m,\u001b[0m\u001b[0;34m\u001b[0m\u001b[0;34m\u001b[0m\u001b[0m\n",
            "\u001b[0;32m/usr/local/lib/python3.6/dist-packages/torch/nn/modules/conv.py\u001b[0m in \u001b[0;36mforward\u001b[0;34m(self, input)\u001b[0m\n\u001b[1;32m    421\u001b[0m \u001b[0;34m\u001b[0m\u001b[0m\n\u001b[1;32m    422\u001b[0m     \u001b[0;32mdef\u001b[0m \u001b[0mforward\u001b[0m\u001b[0;34m(\u001b[0m\u001b[0mself\u001b[0m\u001b[0;34m,\u001b[0m \u001b[0minput\u001b[0m\u001b[0;34m:\u001b[0m \u001b[0mTensor\u001b[0m\u001b[0;34m)\u001b[0m \u001b[0;34m->\u001b[0m \u001b[0mTensor\u001b[0m\u001b[0;34m:\u001b[0m\u001b[0;34m\u001b[0m\u001b[0;34m\u001b[0m\u001b[0m\n\u001b[0;32m--> 423\u001b[0;31m         \u001b[0;32mreturn\u001b[0m \u001b[0mself\u001b[0m\u001b[0;34m.\u001b[0m\u001b[0m_conv_forward\u001b[0m\u001b[0;34m(\u001b[0m\u001b[0minput\u001b[0m\u001b[0;34m,\u001b[0m \u001b[0mself\u001b[0m\u001b[0;34m.\u001b[0m\u001b[0mweight\u001b[0m\u001b[0;34m)\u001b[0m\u001b[0;34m\u001b[0m\u001b[0;34m\u001b[0m\u001b[0m\n\u001b[0m\u001b[1;32m    424\u001b[0m \u001b[0;34m\u001b[0m\u001b[0m\n\u001b[1;32m    425\u001b[0m \u001b[0;32mclass\u001b[0m \u001b[0mConv3d\u001b[0m\u001b[0;34m(\u001b[0m\u001b[0m_ConvNd\u001b[0m\u001b[0;34m)\u001b[0m\u001b[0;34m:\u001b[0m\u001b[0;34m\u001b[0m\u001b[0;34m\u001b[0m\u001b[0m\n",
            "\u001b[0;32m/usr/local/lib/python3.6/dist-packages/torch/nn/modules/conv.py\u001b[0m in \u001b[0;36m_conv_forward\u001b[0;34m(self, input, weight)\u001b[0m\n\u001b[1;32m    418\u001b[0m                             _pair(0), self.dilation, self.groups)\n\u001b[1;32m    419\u001b[0m         return F.conv2d(input, weight, self.bias, self.stride,\n\u001b[0;32m--> 420\u001b[0;31m                         self.padding, self.dilation, self.groups)\n\u001b[0m\u001b[1;32m    421\u001b[0m \u001b[0;34m\u001b[0m\u001b[0m\n\u001b[1;32m    422\u001b[0m     \u001b[0;32mdef\u001b[0m \u001b[0mforward\u001b[0m\u001b[0;34m(\u001b[0m\u001b[0mself\u001b[0m\u001b[0;34m,\u001b[0m \u001b[0minput\u001b[0m\u001b[0;34m:\u001b[0m \u001b[0mTensor\u001b[0m\u001b[0;34m)\u001b[0m \u001b[0;34m->\u001b[0m \u001b[0mTensor\u001b[0m\u001b[0;34m:\u001b[0m\u001b[0;34m\u001b[0m\u001b[0;34m\u001b[0m\u001b[0m\n",
            "\u001b[0;31mRuntimeError\u001b[0m: Input type (torch.cuda.ByteTensor) and weight type (torch.cuda.FloatTensor) should be the same"
          ]
        }
      ]
    },
    {
      "cell_type": "code",
      "metadata": {
        "id": "O2d4pMkuz3K7"
      },
      "source": [
        "correct = 0\r\n",
        "total = 0\r\n",
        "model = model.eval()\r\n",
        "\r\n",
        "with torch.no_grad():\r\n",
        "  for image, label in test_loader:\r\n",
        "    x = image.to(device)\r\n",
        "    y_ = label.to(device)\r\n",
        "\r\n",
        "    output = model.forward(x)\r\n",
        "    _, output_index = torch.max(output,1)\r\n",
        "\r\n",
        "    total += label.size(0)\r\n",
        "    correct += (output_index == y_).sum().float()\r\n",
        "\r\n",
        "  print('Total: {}, Correct: {}'.format(total,correct))\r\n",
        "  print('Accuracy of Test Data: {}'.format(100*correct/total))\r\n",
        "  "
      ],
      "execution_count": null,
      "outputs": []
    },
    {
      "cell_type": "markdown",
      "metadata": {
        "id": "uxzmvVkjL9Er"
      },
      "source": [
        "---\r\n",
        "\r\n",
        "**문제 정답 출력 부분**"
      ]
    },
    {
      "cell_type": "code",
      "metadata": {
        "colab": {
          "base_uri": "https://localhost:8080/"
        },
        "id": "5Kb9HFRvE-40",
        "outputId": "52373e64-3ddf-4b8a-dfec-b1905e9c4a79"
      },
      "source": [
        "print('문제 정답')\r\n",
        "print(f'Section 1: {num_sec1}대')\r\n",
        "print(f'Section 2: {num_sec2}대')\r\n",
        "print(f'Section 3: {num_sec3}대')\r\n",
        "print(f'Section 4: {num_sec4}대')\r\n",
        "print(f'직진: {num_straight}대')\r\n",
        "print(f'좌회전: {num_left_turn}대')\r\n",
        "print(f'우회전: {num_right_turn}대')"
      ],
      "execution_count": null,
      "outputs": [
        {
          "output_type": "stream",
          "text": [
            "문제 정답\n",
            "Section 1: 0대\n",
            "Section 2: 0대\n",
            "Section 3: 0대\n",
            "Section 4: 0대\n",
            "직진: 0대\n",
            "좌회전: 0대\n",
            "우회전: 0대\n"
          ],
          "name": "stdout"
        }
      ]
    },
    {
      "cell_type": "markdown",
      "metadata": {
        "id": "n9eRAWG1xYbE"
      },
      "source": [
        "---"
      ]
    }
  ]
}